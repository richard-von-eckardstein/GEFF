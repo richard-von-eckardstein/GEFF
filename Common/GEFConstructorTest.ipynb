{
 "cells": [
  {
   "cell_type": "code",
   "execution_count": 1,
   "metadata": {},
   "outputs": [
    {
     "data": {
      "text/plain": [
       "<module 'GEFConstructor' from '/home/richard/Documents/Phd Muenster/Axions in the early Universe/GEF/Common/GEFConstructor.py'>"
      ]
     },
     "execution_count": 1,
     "metadata": {},
     "output_type": "execute_result"
    }
   ],
   "source": [
    "from importlib import reload\n",
    "import GEFConstructor\n",
    "reload(GEFConstructor)"
   ]
  },
  {
   "cell_type": "code",
   "execution_count": 2,
   "metadata": {},
   "outputs": [
    {
     "name": "stderr",
     "output_type": "stream",
     "text": [
      "/home/richard/Documents/Phd Muenster/Axions in the early Universe/GEF/Common/GEFConstructor.py:93: UserWarning: \n",
      "No file found under be. This input will be ignored\n",
      "  warnings.warn(warning)\n"
     ]
    },
    {
     "data": {
      "text/plain": [
       "<module 'GEFInput' from '/home/richard/Documents/Phd Muenster/Axions in the early Universe/GEF/Common/ExampleGEFFile.py'>"
      ]
     },
     "execution_count": 2,
     "metadata": {},
     "output_type": "execute_result"
    }
   ],
   "source": [
    "mod = GEFConstructor.load_GEFConfig(\"ExampleGEFFile.py\")\n",
    "GEFConstructor.check_GEFConfig(mod)"
   ]
  }
 ],
 "metadata": {
  "kernelspec": {
   "display_name": "ptarcade",
   "language": "python",
   "name": "python3"
  },
  "language_info": {
   "codemirror_mode": {
    "name": "ipython",
    "version": 3
   },
   "file_extension": ".py",
   "mimetype": "text/x-python",
   "name": "python",
   "nbconvert_exporter": "python",
   "pygments_lexer": "ipython3",
   "version": "3.10.13"
  }
 },
 "nbformat": 4,
 "nbformat_minor": 2
}
