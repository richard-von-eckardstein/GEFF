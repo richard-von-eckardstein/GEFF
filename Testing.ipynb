{
 "cells": [
  {
   "cell_type": "code",
   "execution_count": 1,
   "metadata": {},
   "outputs": [],
   "source": [
    "from importlib import reload\n",
    "from src.GEFConstructor import CreateGEF\n",
    "\n",
    "import matplotlib.pyplot as plt\n",
    "import numpy as np"
   ]
  },
  {
   "cell_type": "code",
   "execution_count": 2,
   "metadata": {},
   "outputs": [
    {
     "name": "stdout",
     "output_type": "stream",
     "text": [
      "GEFComp loaded\n",
      "No existing GEF data found. You can specify a file to load using GEF.LoadData or solve the GEF equations using GEF.RunGEF.\n",
      "The end of inflation was not reached by the solver. Increasing t1 by 58.6 to 63.6.\n",
      "The end of inflation was not reached by the solver. Increasing t1 by 29.4 to 93.0.\n"
     ]
    },
    {
     "ename": "RuntimeError",
     "evalue": "",
     "output_type": "error",
     "traceback": [
      "\u001b[0;31m---------------------------------------------------------------------------\u001b[0m",
      "\u001b[0;31mValueError\u001b[0m                                Traceback (most recent call last)",
      "File \u001b[0;32m~/Documents/Axion_Inflation/GEF/src/GEFClassic/GEFClassic.py:392\u001b[0m, in \u001b[0;36mGEF.SolveGEF\u001b[0;34m(x, tend, atol, rtol, reachNend)\u001b[0m\n\u001b[1;32m    391\u001b[0m \u001b[38;5;28;01mtry\u001b[39;00m:\n\u001b[0;32m--> 392\u001b[0m     sol \u001b[38;5;241m=\u001b[39m \u001b[43msolve_ivp\u001b[49m\u001b[43m(\u001b[49m\u001b[43mODE\u001b[49m\u001b[43m,\u001b[49m\u001b[43m \u001b[49m\u001b[43m[\u001b[49m\u001b[43mt0\u001b[49m\u001b[43m,\u001b[49m\u001b[43mtend\u001b[49m\u001b[43m]\u001b[49m\u001b[43m,\u001b[49m\u001b[43m \u001b[49m\u001b[43myini\u001b[49m\u001b[43m,\u001b[49m\u001b[43m \u001b[49m\u001b[43mt_eval\u001b[49m\u001b[38;5;241;43m=\u001b[39;49m\u001b[43mteval\u001b[49m\u001b[43m,\u001b[49m\n\u001b[1;32m    393\u001b[0m \u001b[43m                     \u001b[49m\u001b[43mmethod\u001b[49m\u001b[38;5;241;43m=\u001b[39;49m\u001b[38;5;124;43m\"\u001b[39;49m\u001b[38;5;124;43mRK45\u001b[39;49m\u001b[38;5;124;43m\"\u001b[39;49m\u001b[43m,\u001b[49m\u001b[43m \u001b[49m\u001b[43matol\u001b[49m\u001b[38;5;241;43m=\u001b[39;49m\u001b[43matol\u001b[49m\u001b[43m,\u001b[49m\u001b[43m \u001b[49m\u001b[43mrtol\u001b[49m\u001b[38;5;241;43m=\u001b[39;49m\u001b[43mrtol\u001b[49m\u001b[43m,\u001b[49m\u001b[43m \u001b[49m\u001b[43mevents\u001b[49m\u001b[38;5;241;43m=\u001b[39;49m\u001b[43mevent\u001b[49m\u001b[43m)\u001b[49m\n\u001b[1;32m    394\u001b[0m     \u001b[38;5;66;03m#print(sol)\u001b[39;00m\n",
      "File \u001b[0;32m~/.conda/envs/ptarcade/lib/python3.10/site-packages/scipy/integrate/_ivp/ivp.py:551\u001b[0m, in \u001b[0;36msolve_ivp\u001b[0;34m(fun, t_span, y0, method, t_eval, dense_output, events, vectorized, args, **options)\u001b[0m\n\u001b[1;32m    550\u001b[0m \u001b[38;5;28;01mif\u001b[39;00m np\u001b[38;5;241m.\u001b[39many(t_eval \u001b[38;5;241m<\u001b[39m \u001b[38;5;28mmin\u001b[39m(t0, tf)) \u001b[38;5;129;01mor\u001b[39;00m np\u001b[38;5;241m.\u001b[39many(t_eval \u001b[38;5;241m>\u001b[39m \u001b[38;5;28mmax\u001b[39m(t0, tf)):\n\u001b[0;32m--> 551\u001b[0m     \u001b[38;5;28;01mraise\u001b[39;00m \u001b[38;5;167;01mValueError\u001b[39;00m(\u001b[38;5;124m\"\u001b[39m\u001b[38;5;124mValues in `t_eval` are not within `t_span`.\u001b[39m\u001b[38;5;124m\"\u001b[39m)\n\u001b[1;32m    553\u001b[0m d \u001b[38;5;241m=\u001b[39m np\u001b[38;5;241m.\u001b[39mdiff(t_eval)\n",
      "\u001b[0;31mValueError\u001b[0m: Values in `t_eval` are not within `t_span`.",
      "\nDuring handling of the above exception, another exception occurred:\n",
      "\u001b[0;31mRuntimeError\u001b[0m                              Traceback (most recent call last)",
      "Cell \u001b[0;32mIn[2], line 11\u001b[0m\n\u001b[1;32m      8\u001b[0m \u001b[38;5;28mprint\u001b[39m(\u001b[38;5;124m\"\u001b[39m\u001b[38;5;124mGEFComp loaded\u001b[39m\u001b[38;5;124m\"\u001b[39m)\n\u001b[1;32m     10\u001b[0m GEF1 \u001b[38;5;241m=\u001b[39m CreateGEF(\u001b[38;5;124m\"\u001b[39m\u001b[38;5;124mConfig/ClassicGEF-Test.py\u001b[39m\u001b[38;5;124m\"\u001b[39m)\n\u001b[0;32m---> 11\u001b[0m sol1 \u001b[38;5;241m=\u001b[39m \u001b[43mGEF1\u001b[49m\u001b[38;5;241;43m.\u001b[39;49m\u001b[43mRunGEF\u001b[49m\u001b[43m(\u001b[49m\u001b[43mntr\u001b[49m\u001b[43m,\u001b[49m\u001b[43m \u001b[49m\u001b[43mtend\u001b[49m\u001b[38;5;241;43m=\u001b[39;49m\u001b[43mtmid\u001b[49m\u001b[43m,\u001b[49m\u001b[43m \u001b[49m\u001b[43mreachNend\u001b[49m\u001b[38;5;241;43m=\u001b[39;49m\u001b[38;5;28;43;01mTrue\u001b[39;49;00m\u001b[43m)\u001b[49m\n",
      "File \u001b[0;32m~/Documents/Axion_Inflation/GEF/src/GEFClassic/GEFClassic.py:438\u001b[0m, in \u001b[0;36mGEF.RunGEF\u001b[0;34m(x, ntr, tend, atol, rtol, reachNend)\u001b[0m\n\u001b[1;32m    436\u001b[0m x\u001b[38;5;241m.\u001b[39mntr \u001b[38;5;241m=\u001b[39m ntr\u001b[38;5;241m+\u001b[39m\u001b[38;5;241m1\u001b[39m\n\u001b[1;32m    437\u001b[0m \u001b[38;5;28;01mif\u001b[39;00m \u001b[38;5;129;01mnot\u001b[39;00m(x\u001b[38;5;241m.\u001b[39mcompleted):\n\u001b[0;32m--> 438\u001b[0m     sol \u001b[38;5;241m=\u001b[39m \u001b[43mx\u001b[49m\u001b[38;5;241;43m.\u001b[39;49m\u001b[43mSolveGEF\u001b[49m\u001b[43m(\u001b[49m\u001b[43mtend\u001b[49m\u001b[43m,\u001b[49m\u001b[43m \u001b[49m\u001b[43matol\u001b[49m\u001b[38;5;241;43m=\u001b[39;49m\u001b[43matol\u001b[49m\u001b[43m,\u001b[49m\u001b[43m \u001b[49m\u001b[43mrtol\u001b[49m\u001b[38;5;241;43m=\u001b[39;49m\u001b[43mrtol\u001b[49m\u001b[43m,\u001b[49m\u001b[43m \u001b[49m\u001b[43mreachNend\u001b[49m\u001b[38;5;241;43m=\u001b[39;49m\u001b[43mreachNend\u001b[49m\u001b[43m)\u001b[49m\n\u001b[1;32m    439\u001b[0m     t \u001b[38;5;241m=\u001b[39m sol\u001b[38;5;241m.\u001b[39mt\n\u001b[1;32m    440\u001b[0m     y \u001b[38;5;241m=\u001b[39m sol\u001b[38;5;241m.\u001b[39my\n",
      "File \u001b[0;32m~/Documents/Axion_Inflation/GEF/src/GEFClassic/GEFClassic.py:397\u001b[0m, in \u001b[0;36mGEF.SolveGEF\u001b[0;34m(x, tend, atol, rtol, reachNend)\u001b[0m\n\u001b[1;32m    395\u001b[0m     \u001b[38;5;28;01massert\u001b[39;00m sol\u001b[38;5;241m.\u001b[39msuccess\n\u001b[1;32m    396\u001b[0m \u001b[38;5;28;01mexcept\u001b[39;00m:\u001b[38;5;66;03m# not(ValueError or AssertionError):\u001b[39;00m\n\u001b[0;32m--> 397\u001b[0m     \u001b[38;5;28;01mraise\u001b[39;00m \u001b[38;5;167;01mRuntimeError\u001b[39;00m\n\u001b[1;32m    398\u001b[0m \u001b[38;5;28;01melse\u001b[39;00m:\n\u001b[1;32m    399\u001b[0m     \u001b[38;5;28;01mif\u001b[39;00m reachNend:\n",
      "\u001b[0;31mRuntimeError\u001b[0m: "
     ]
    }
   ],
   "source": [
    "#Comparison Run\n",
    "ntr = 240\n",
    "tfin = 250#45\n",
    "tmid = 5#120\n",
    "GEFComp = CreateGEF(\"Config/ClassicGEF+beta25+Mass.py\")\n",
    "GEFComp.Unitless()\n",
    "\n",
    "print(\"GEFComp loaded\")\n",
    "\n",
    "GEF1 = CreateGEF(\"Config/ClassicGEF-Test.py\")\n",
    "sol1 = GEF1.RunGEF(ntr, tend=tmid, reachNend=True)"
   ]
  },
  {
   "cell_type": "code",
   "execution_count": null,
   "metadata": {},
   "outputs": [
    {
     "name": "stdout",
     "output_type": "stream",
     "text": [
      "  message: A termination event occurred.\n",
      "  success: True\n",
      "   status: 1\n",
      "        t: [ 1.984e+02  1.985e+02 ...  2.225e+02  2.226e+02]\n",
      "        y: [[ 6.687e+01  6.687e+01 ...  6.724e+01  6.724e+01]\n",
      "            [ 2.143e-01  2.139e-01 ...  1.438e-01  1.436e-01]\n",
      "            ...\n",
      "            [ 1.609e-35  1.021e-35 ...  3.699e-47  2.145e-47]\n",
      "            [ 1.361e-37  9.106e-38 ...  1.050e-48  6.151e-49]]\n",
      "      sol: None\n",
      " t_events: [array([ 2.226e+02])]\n",
      " y_events: [array([[ 6.724e+01,  1.436e-01, ...,  2.024e-47,  5.804e-49]])]\n",
      "     nfev: 218\n",
      "     njev: 0\n",
      "      nlu: 0\n"
     ]
    },
    {
     "ename": "NameError",
     "evalue": "name 'sol2' is not defined",
     "output_type": "error",
     "traceback": [
      "\u001b[0;31m---------------------------------------------------------------------------\u001b[0m",
      "\u001b[0;31mNameError\u001b[0m                                 Traceback (most recent call last)",
      "Cell \u001b[0;32mIn[6], line 2\u001b[0m\n\u001b[1;32m      1\u001b[0m \u001b[38;5;28mprint\u001b[39m(sol1)\n\u001b[0;32m----> 2\u001b[0m \u001b[38;5;28mprint\u001b[39m(\u001b[43msol2\u001b[49m)\n",
      "\u001b[0;31mNameError\u001b[0m: name 'sol2' is not defined"
     ]
    }
   ],
   "source": [
    "print(sol1)"
   ]
  },
  {
   "cell_type": "code",
   "execution_count": null,
   "metadata": {},
   "outputs": [
    {
     "ename": "IndexError",
     "evalue": "invalid index to scalar variable.",
     "output_type": "error",
     "traceback": [
      "\u001b[0;31m---------------------------------------------------------------------------\u001b[0m",
      "\u001b[0;31mIndexError\u001b[0m                                Traceback (most recent call last)",
      "Cell \u001b[0;32mIn[4], line 2\u001b[0m\n\u001b[1;32m      1\u001b[0m keys \u001b[38;5;241m=\u001b[39m [\u001b[38;5;124m\"\u001b[39m\u001b[38;5;124mphi\u001b[39m\u001b[38;5;124m\"\u001b[39m, \u001b[38;5;124m\"\u001b[39m\u001b[38;5;124mxi\u001b[39m\u001b[38;5;124m\"\u001b[39m, \u001b[38;5;124m\"\u001b[39m\u001b[38;5;124mH\u001b[39m\u001b[38;5;124m\"\u001b[39m, \u001b[38;5;124m\"\u001b[39m\u001b[38;5;124mdphi\u001b[39m\u001b[38;5;124m\"\u001b[39m, \u001b[38;5;124m\"\u001b[39m\u001b[38;5;124mN\u001b[39m\u001b[38;5;124m\"\u001b[39m]\n\u001b[0;32m----> 2\u001b[0m Nend1 \u001b[38;5;241m=\u001b[39m \u001b[43mGEFComp\u001b[49m\u001b[38;5;241;43m.\u001b[39;49m\u001b[43mEndOfInflation\u001b[49m\u001b[43m(\u001b[49m\u001b[43m)\u001b[49m\u001b[43m[\u001b[49m\u001b[38;5;241;43m0\u001b[39;49m\u001b[43m]\u001b[49m\n\u001b[1;32m      3\u001b[0m Nend2 \u001b[38;5;241m=\u001b[39m GEF1\u001b[38;5;241m.\u001b[39mNend\n\u001b[1;32m      4\u001b[0m \u001b[38;5;28;01mfor\u001b[39;00m key \u001b[38;5;129;01min\u001b[39;00m keys:\n",
      "\u001b[0;31mIndexError\u001b[0m: invalid index to scalar variable."
     ]
    }
   ],
   "source": [
    "keys = [\"phi\", \"xi\", \"H\", \"dphi\", \"N\"]\n",
    "Nend1 = GEFComp.EndOfInflation()[0]\n",
    "Nend2 = GEF1.Nend\n",
    "for key in keys:\n",
    "    plt.plot(GEFComp.vals[\"N\"], abs(GEFComp.vals[key]), \"gray\")\n",
    "    plt.plot(GEF1.vals[\"N\"], abs(GEF1.vals[key]), \"r--\")\n",
    "    plt.vlines(Nend1, min(abs(GEFComp.vals[key])), max(abs(GEFComp.vals[key])), color=\"orange\")\n",
    "    plt.vlines(Nend2, min(abs(GEFComp.vals[key])), max(abs(GEFComp.vals[key])), color=\"red\", linestyle=\"dashed\")\n",
    "    plt.show()\n",
    "keys = [\"E\", \"B\", \"G\", \"kh\"]\n",
    "for key in keys:\n",
    "    plt.plot(GEFComp.vals[\"N\"], abs(GEFComp.vals[key]), \"gray\")\n",
    "    plt.plot(GEF1.vals[\"N\"], abs(GEF1.vals[key]), \"r--\")\n",
    "    plt.vlines(Nend1, min(abs(GEFComp.vals[key])), max(abs(GEFComp.vals[key])), color=\"orange\")\n",
    "    plt.vlines(Nend2, min(abs(GEFComp.vals[key])), max(abs(GEFComp.vals[key])), color=\"red\", linestyle=\"dashed\")\n",
    "    plt.yscale(\"log\")\n",
    "    plt.show()\n",
    "        \n"
   ]
  },
  {
   "cell_type": "code",
   "execution_count": null,
   "metadata": {},
   "outputs": [
    {
     "ename": "NameError",
     "evalue": "name 'G' is not defined",
     "output_type": "error",
     "traceback": [
      "\u001b[0;31m---------------------------------------------------------------------------\u001b[0m",
      "\u001b[0;31mNameError\u001b[0m                                 Traceback (most recent call last)",
      "Cell \u001b[0;32mIn[29], line 1\u001b[0m\n\u001b[0;32m----> 1\u001b[0m \u001b[43mG\u001b[49m\u001b[38;5;241m.\u001b[39mUnitful()\n\u001b[1;32m      3\u001b[0m epsH \u001b[38;5;241m=\u001b[39m \u001b[38;5;241m-\u001b[39mG\u001b[38;5;241m.\u001b[39mvals[\u001b[38;5;124m\"\u001b[39m\u001b[38;5;124mHprime\u001b[39m\u001b[38;5;124m\"\u001b[39m]\u001b[38;5;241m/\u001b[39mG\u001b[38;5;241m.\u001b[39mvals[\u001b[38;5;124m\"\u001b[39m\u001b[38;5;124mH\u001b[39m\u001b[38;5;124m\"\u001b[39m]\u001b[38;5;241m*\u001b[39m\u001b[38;5;241m*\u001b[39m\u001b[38;5;241m2\u001b[39m\n\u001b[1;32m      5\u001b[0m fig, ax \u001b[38;5;241m=\u001b[39m plt\u001b[38;5;241m.\u001b[39msubplots(\u001b[38;5;241m3\u001b[39m,\u001b[38;5;241m1\u001b[39m, sharex\u001b[38;5;241m=\u001b[39m\u001b[38;5;28;01mTrue\u001b[39;00m, figsize\u001b[38;5;241m=\u001b[39m(\u001b[38;5;241m8\u001b[39m,\u001b[38;5;241m10\u001b[39m))\n",
      "\u001b[0;31mNameError\u001b[0m: name 'G' is not defined"
     ]
    }
   ],
   "source": [
    "G.Unitful()\n",
    "\n",
    "epsH = -G.vals[\"Hprime\"]/G.vals[\"H\"]**2\n",
    "\n",
    "fig, ax = plt.subplots(3,1, sharex=True, figsize=(8,10))\n",
    "ax[0].plot(G.vals[\"N\"], G.vals[\"H\"], \"k\")\n",
    "ax[0].set_ylim(0.725e-5,1.61e-5)\n",
    "yticks = np.round(np.arange(0.8, 1.61, 0.2),1)\n",
    "ytickslab = [rf\"${ytick}$\" + r\"$\\times 10^{-5}$\" for ytick in yticks]\n",
    "ax[0].set_yticks(yticks*1e-5, ytickslab)\n",
    "yticksmin = np.arange(0.75, 1.65, 0.05)\n",
    "ax[0].set_yticks(yticksmin*1e-5, minor=True)\n",
    "ax[0].set_ylabel(r\"$H/M_{\\rm P}$\")\n",
    "\n",
    "ax[1].plot(G.vals[\"N\"], epsH, \"k\")\n",
    "yticks = [5e-4, 1e-3, 5e-3, 1e-2, 5e-2, 1e-1]\n",
    "ytickslab = [r\"$5 \\times 10^{-4}$\", r\"$0.001$\", r\"$0.005$\", r\"$0.010$\", r\"$0.050$\", r\"$0.100$\"]\n",
    "\n",
    "ax[1].set_ylim(4e-4,0.2)\n",
    "ax[1].set_yscale(\"log\")\n",
    "ax[1].set_yticks(yticks, ytickslab)\n",
    "ax[1].set_ylabel(r\"$\\varepsilon_H$\")\n",
    "\n",
    "ax[2].plot(G.vals[\"N\"], G.vals[\"xi\"], \"k\")\n",
    "ax[2].set_ylim(4e-4,0.2)\n",
    "ax[2].set_yscale(\"log\")\n",
    "\n",
    "ax[2].set_xticks(np.arange(0, 70, 10))\n",
    "ax[2].set_xticks(np.arange(0, 70, 2), minor=True)\n",
    "ax[2].set_xlim(-1, 61)\n",
    "plt.subplots_adjust(hspace=0)\n",
    "plt.show()"
   ]
  },
  {
   "cell_type": "code",
   "execution_count": null,
   "metadata": {},
   "outputs": [],
   "source": []
  }
 ],
 "metadata": {
  "kernelspec": {
   "display_name": "Python 3",
   "language": "python",
   "name": "python3"
  },
  "language_info": {
   "codemirror_mode": {
    "name": "ipython",
    "version": 3
   },
   "file_extension": ".py",
   "mimetype": "text/x-python",
   "name": "python",
   "nbconvert_exporter": "python",
   "pygments_lexer": "ipython3",
   "version": "3.10.11"
  }
 },
 "nbformat": 4,
 "nbformat_minor": 2
}
