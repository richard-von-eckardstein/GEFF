{
 "cells": [
  {
   "cell_type": "code",
   "execution_count": 78,
   "metadata": {},
   "outputs": [],
   "source": [
    "from importlib import reload\n",
    "import src.SolverAndEvents\n",
    "reload(src.SolverAndEvents)\n",
    "from src.SolverAndEvents import Event, Solver, EventError\n",
    "import matplotlib.pyplot as plt\n",
    "import numpy as np"
   ]
  },
  {
   "cell_type": "code",
   "execution_count": 79,
   "metadata": {},
   "outputs": [],
   "source": [
    "ode1 = lambda t, y: t\n",
    "ode2 = lambda t, y: t**2\n",
    "\n",
    "SolverName = \"sol1\"\n",
    "t0 = 0\n",
    "tend = 2\n",
    "yini = np.array([1])\n",
    "atol = 1e-2\n",
    "rtol = 1e-4"
   ]
  },
  {
   "cell_type": "code",
   "execution_count": 80,
   "metadata": {},
   "outputs": [],
   "source": [
    "EventName1=\"f(t) is 1.\"\n",
    "EventFunc1 = lambda t, y: y - 10\n",
    "terminal1 = True\n",
    "direction1 = 1\n",
    "\n",
    "def EnsureYis10(sol, occurance):\n",
    "    if occurance and sol.status==1:\n",
    "        message = f\"Solver \"\n",
    "        return {\"primary\":\"finish\"}\n",
    "    elif not(occurance) and sol.status==1:\n",
    "        return {\"primary\":\"proceed\"}\n",
    "    if sol.status==0:\n",
    "        tendnew = sol.t[-1]+1\n",
    "        print(rf\"Solver did not reach the target, increasing tend by 1 to {np.round(tendnew)}\")\n",
    "        return {\"primary\":\"proceed\", \"secondary\":{\"tend\":tendnew}}\n",
    "    else: raise EventError\n",
    "    \n",
    "\n",
    "Yis10 = Event(EventName1, EventFunc1, terminal1, direction1, EnsureYis10)"
   ]
  },
  {
   "cell_type": "code",
   "execution_count": 81,
   "metadata": {},
   "outputs": [],
   "source": [
    "EventName2=\"Switch at 1\"\n",
    "EventFunc2 = lambda t, y: y - 2\n",
    "terminal2 = True\n",
    "direction2 = 1\n",
    "\n",
    "def SwitchODE(sol, occurance):\n",
    "    if occurance and sol.status==1:\n",
    "        return {\"primary\":\"proceed\",\"secondary\":{\"ODE\":ode2}}\n",
    "    elif not(occurance): return {}\n",
    "    else: raise EventError\n",
    "    return False\n",
    "\n",
    "SwitchAt2 = Event(EventName2, EventFunc2, terminal2, direction2, SwitchODE)"
   ]
  },
  {
   "cell_type": "code",
   "execution_count": 82,
   "metadata": {},
   "outputs": [
    {
     "name": "stdout",
     "output_type": "stream",
     "text": [
      "2\n",
      "Proceeding\n",
      "[{'ODE': <function <lambda> at 0x7ff10b385360>}]\n",
      "Updating ODE to <function <lambda> at 0x7ff10b385360>\n",
      "2\n",
      "Solver did not reach the target, increasing tend by 1 to 3.0\n",
      "Proceeding\n",
      "[{'tend': 2.999999999999935}]\n",
      "Updating tend to 2.999999999999935\n",
      "2.999999999999935\n",
      "Finishing\n",
      "[]\n"
     ]
    }
   ],
   "source": [
    "Solver1 = Solver(SolverName, ode1, t0, yini, tend, atol, rtol, [Yis10, SwitchAt2])\n",
    "Solver1.Solve()"
   ]
  },
  {
   "cell_type": "code",
   "execution_count": 83,
   "metadata": {},
   "outputs": [
    {
     "data": {
      "text/plain": [
       "[<matplotlib.lines.Line2D at 0x7ff10b468070>]"
      ]
     },
     "execution_count": 83,
     "metadata": {},
     "output_type": "execute_result"
    },
    {
     "data": {
      "image/png": "[encoded data removed]",
      "text/plain": [
       "<Figure size 640x480 with 1 Axes>"
      ]
     },
     "metadata": {},
     "output_type": "display_data"
    }
   ],
   "source": [
    "plt.plot(Solver1.solution.t, Solver1.solution.y[0], \"r\")"
   ]
  },
  {
   "cell_type": "code",
   "execution_count": null,
   "metadata": {},
   "outputs": [],
   "source": []
  }
 ],
 "metadata": {
  "kernelspec": {
   "display_name": "Python 3",
   "language": "python",
   "name": "python3"
  },
  "language_info": {
   "codemirror_mode": {
    "name": "ipython",
    "version": 3
   },
   "file_extension": ".py",
   "mimetype": "text/x-python",
   "name": "python",
   "nbconvert_exporter": "python",
   "pygments_lexer": "ipython3",
   "version": "3.10.11"
  }
 },
 "nbformat": 4,
 "nbformat_minor": 2
}
