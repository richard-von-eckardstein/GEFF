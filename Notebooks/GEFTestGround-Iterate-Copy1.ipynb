{
 "cells": [
  {
   "cell_type": "code",
   "execution_count": 35,
   "id": "bf89e9c7",
   "metadata": {
    "scrolled": true
   },
   "outputs": [],
   "source": [
    "import numpy as np\n",
    "import matplotlib.pyplot as plt\n",
    "import pandas as pd\n",
    "from importlib import reload\n",
    "import GEFv14\n",
    "reload(GEFv14)\n",
    "from GEFv14 import GEF\n",
    "#from GEF import GEF as GEF2\n",
    "from utilities import PlotComp\n",
    "from scipy.interpolate import CubicSpline, RectBivariateSpline\n",
    "from scipy.integrate import quad\n",
    "from scipy.optimize import fsolve\n",
    "import os"
   ]
  },
  {
   "cell_type": "code",
   "execution_count": 36,
   "id": "4cba63c1",
   "metadata": {},
   "outputs": [],
   "source": [
    "alpha = 0.\n",
    "Mpl = 1.\n",
    "beta = 25.\n",
    "M = 6e-6*Mpl\n",
    "phi0 = 15.55*Mpl\n",
    "dphidt0 = -np.sqrt(2/3)*M*Mpl\n",
    "ini = {\"phi\":phi0, \"dphi\":dphidt0, \"delta\":1.0, \"rhoChi\":0.0}\n",
    "SE = \"mix\"\n",
    "ntr = 125\n",
    "H = GEF(alpha, beta, Mpl, ini, M, ntr, SE, AltDamp=2, approx=True)\n",
    "#G = GEF(alpha, beta, Mpl, ini, M, ntr, SE, AltDamp=0, approx=True)\n",
    "tend = 118."
   ]
  },
  {
   "cell_type": "code",
   "execution_count": 37,
   "id": "6cf9181c",
   "metadata": {},
   "outputs": [
    {
     "name": "stdout",
     "output_type": "stream",
     "text": [
      "Elapsed time: 214.8698 seconds\n"
     ]
    }
   ],
   "source": [
    "sol = H.RunGEF(t1=tend)"
   ]
  },
  {
   "cell_type": "code",
   "execution_count": null,
   "id": "ddacab06",
   "metadata": {},
   "outputs": [
    {
     "name": "stderr",
     "output_type": "stream",
     "text": [
      "/home/users/rfreiher/.conda/envs/ptarcade/lib/python3.10/site-packages/scipy/optimize/_minpack_py.py:177: RuntimeWarning: The iteration is not making good progress, as measured by the \n",
      "  improvement from the last five Jacobian evaluations.\n",
      "  warnings.warn(msg, RuntimeWarning)\n"
     ]
    }
   ],
   "source": [
    "H.CreateDeltaFunction()"
   ]
  },
  {
   "cell_type": "code",
   "execution_count": null,
   "id": "91059433",
   "metadata": {},
   "outputs": [],
   "source": [
    "fig1, ax1 = plt.subplots(3,2, figsize=(10,10), sharex=True)\n",
    "    \n",
    "t = H.vals[\"t\"]\n",
    "\n",
    "ax1[0,0].plot(t, H.Epf2(t), \"b-\")\n",
    "ax1[0,0].set_title(r\"$E_+$\")\n",
    "ax1[0,1].plot(t, H.Emf2(t), \"b-\")\n",
    "ax1[0,1].set_title(r\"$E_-$\")\n",
    "ax1[1,0].plot(t, H.Bpf2(t), \"b-\")\n",
    "ax1[1,0].set_title(r\"$B_+$\")\n",
    "ax1[1,1].plot(t, H.Bmf2(t), \"b-\")\n",
    "ax1[1,1].set_title(r\"$B_-$\")\n",
    "ax1[2,0].plot(t, -H.Gpf2(t), \"b-\")\n",
    "ax1[2,0].set_title(r\"$G_+$\")\n",
    "ax1[2,1].plot(t, -H.Gmf2(t), \"b-\")\n",
    "ax1[2,1].set_title(r\"$G_-$\")\n",
    "\n",
    "ax1[0,0].plot(t, H.Epf(t), \"r:\")\n",
    "ax1[0,1].plot(t, H.Emf(t), \"r:\")\n",
    "ax1[1,0].plot(t, H.Bpf(t), \"r:\")\n",
    "ax1[1,1].plot(t, H.Bmf(t), \"r:\")\n",
    "ax1[2,0].plot(t, -H.Gpf(t), \"r:\")\n",
    "ax1[2,1].plot(t, -H.Gmf(t), \"r:\")\n",
    "\n",
    "    \n",
    "for ax in fig1.axes:\n",
    "    ax.grid(True)\n",
    "    ax.set_xlim(70, 120)\n",
    "    \n",
    "for i in range(3):\n",
    "    ax1[i, 0].set_ylim(-0.5, 3.)\n",
    "    #ax1[i, 1].set_ylim(-10, 1000.)\n",
    "    ax1[i,1].set_yscale(\"symlog\")\n",
    "    \n",
    "\n",
    "lines_labels = [ax1[0,0].get_legend_handles_labels()]\n",
    "lines, labels = [sum(lol, []) for lol in zip(*lines_labels)]\n",
    "fig1.legend(lines, labels)\n",
    "\n",
    "\n",
    "plt.show()\n"
   ]
  },
  {
   "cell_type": "code",
   "execution_count": null,
   "id": "7a215fbc",
   "metadata": {},
   "outputs": [],
   "source": []
  }
 ],
 "metadata": {
  "kernelspec": {
   "display_name": "Python 3 (ipykernel)",
   "language": "python",
   "name": "python3"
  },
  "language_info": {
   "codemirror_mode": {
    "name": "ipython",
    "version": 3
   },
   "file_extension": ".py",
   "mimetype": "text/x-python",
   "name": "python",
   "nbconvert_exporter": "python",
   "pygments_lexer": "ipython3",
   "version": "3.10.11"
  }
 },
 "nbformat": 4,
 "nbformat_minor": 5
}
