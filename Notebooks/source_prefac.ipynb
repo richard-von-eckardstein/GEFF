{
 "cells": [
  {
   "cell_type": "code",
   "execution_count": 16,
   "metadata": {},
   "outputs": [],
   "source": [
    "import numpy as np\n",
    "import matplotlib.pyplot as plt\n",
    "import sys\n",
    "import os\n",
    "from importlib import reload\n",
    "import GEFClassic\n",
    "reload(GEFClassic)\n",
    "from GEFClassic import GEF\n",
    "from scipy.interpolate import CubicSpline\n",
    "from scipy.optimize import fsolve\n",
    "from scipy.integrate import solve_ivp\n",
    "from mpmath import hankel1, hankel2\n",
    "import pandas as pd\n",
    "import source_prefac\n",
    "from numpy import array, append\n",
    "from scipy.linalg import inv"
   ]
  },
  {
   "cell_type": "code",
   "execution_count": 3,
   "metadata": {},
   "outputs": [],
   "source": [
    "alpha = 0.\n",
    "beta=25.\n",
    "Mpl = 1.\n",
    "M = 6.16e-6*Mpl\n",
    "phi0 = 15.55*Mpl\n",
    "dphidt0 = -np.sqrt(2/3)*M*Mpl\n",
    "ini = {\"phi\":phi0, \"dphi\":dphidt0}\n",
    "ntr = 150\n",
    "H = GEF(beta, Mpl, ini, M, ntr, approx=True)"
   ]
  },
  {
   "cell_type": "code",
   "execution_count": 9,
   "metadata": {},
   "outputs": [],
   "source": [
    "H.LoadData(\"GEF_Beta25.0_SENone_M6.16.dat\")\n",
    "H.Unitful()"
   ]
  },
  {
   "cell_type": "code",
   "execution_count": 10,
   "metadata": {},
   "outputs": [],
   "source": [
    "k = np.array([1e5, 1e10, 1e15])*H.H0"
   ]
  },
  {
   "cell_type": "code",
   "execution_count": 35,
   "metadata": {},
   "outputs": [
    {
     "name": "stdout",
     "output_type": "stream",
     "text": [
      "Already Unitful\n"
     ]
    }
   ],
   "source": [
    "\n",
    "# array of rv, rrho, r1pi, r2pi, rE2, rEB\n",
    "def prefac_arr(G,k):\n",
    "    \n",
    "    # Background quantites [DGnote: Check all the GEF imported variables. Also assuming no k-dependence for GEF quantities]\n",
    "    Mpl = G.Mpl\n",
    "    G.Unitful()\n",
    "    H  = G.vals[\"H\"]\n",
    "    a = G.vals[\"a\"]\n",
    "    Hdot = G.vals[\"Hprime\"]\n",
    "    phipr = a*G.vals[\"dphi\"]    # phiprime\n",
    "    Vpr = G.dVdphi()\n",
    "    Vppr = G.ddVddphi()\n",
    "    E2 = G.vals[\"E\"]\n",
    "    B2 = G.vals[\"B\"]\n",
    "    I1 = 1\n",
    "    I1pr = 0\n",
    "    I1ppr = 0\n",
    "    I2pr = G.dIdphi()\n",
    "    I2ppr = G.ddIddphi()\n",
    "    EB = G.vals[\"G\"]\n",
    "    B2pr = a*G.vals[\"Bdot\"]\n",
    "    E2pr = a*G.vals[\"Edot\"]\n",
    "    EBpr = a*G.vals[\"Gdot\"]\n",
    "    EB1 = G.vals[\"G1\"]\n",
    "    phiddot = G.vals[\"ddphi\"]\n",
    "\n",
    "\n",
    "    Hddot = -1*phipr*phiddot/(a*Mpl**2) - (I1pr*phipr/(3*a*Mpl**2))*(E2 + B2) - (I1/(3*a*Mpl**2))*(E2pr + B2pr)\n",
    "    \n",
    "\n",
    "\n",
    "    # M matrix [Eqs. (85), (87) and (88)]\n",
    "    M11 = 1\n",
    "    M12 = (-1*H*phipr)/(a*Hdot*2*(Mpl**2))\n",
    "\n",
    "    M21pre = H/(a*Hdot)\n",
    "    M21fac = k**2 + 2*(a**2)*I1*B2/(3*Mpl**2)\n",
    "    M21 = M21pre*M21fac\n",
    "    \n",
    "    M22pre = -1*H/((a**2)*a*(Hdot**2)*Mpl**2)\n",
    "    M22fac1 = ((phipr**2)*(a**2)/(6*Mpl**2))*(I1pr*E2 + I2pr*EB)\n",
    "    M22fac2 = (a**2/(3*Mpl**2))*I1*(E2 + B2)*(a*H*phipr + a**2*Vpr + a**2*I1pr*(E2 + B2)/6)\n",
    "    M22 = M22pre*(M22fac1 + M22fac2)\n",
    "    \n",
    "    detM = M11*M22 - M12*M21\n",
    "    Minv11 = M22/detM\n",
    "    Minv12 = -M12/detM\n",
    "    Minv21 = -M21/detM\n",
    "    Minv22 = M11/detM\n",
    "\n",
    "    Minvmat = array([[Minv11, Minv12], [Minv21,Minv22]])\n",
    "\n",
    "    # derivatives of M21 and M22 used below\n",
    "    M21prepr = 1 - (H**2*Hdot + H*Hddot)/(Hdot*Hdot)\n",
    "    M21facpr = (2/(3*Mpl**2))*a**2*(2*a*H*I1*B2 + I1pr*phipr*B2 + I1*B2pr)\n",
    "    M21pr = M21prepr*M21fac + M21pre*M21facpr\n",
    "\n",
    "    M22prepr = (-1/Mpl**2)*(1 - 3*H + 2*H*Hddot/(Hdot**2))/(a**2*Hdot)\n",
    "    M22fac1pr = (1/(6*Mpl**2))*((2*phipr*phiddot)*(a**4)*(I1pr*E2 + I2pr*EB) \\\n",
    "                                + (phipr**2)*(4*a**3*H)*(I1pr*E2 + I2pr*EB) \\\n",
    "                                    + (phipr**2)*(a**2)*(I1ppr*phipr*E2 + I1pr*E2pr + I2ppr*phipr*EB + I2pr*EBpr))\n",
    "    M22fac2pr = (1/(3*Mpl**2))*((2*a**3*H*I1 + a**2*I1pr*phipr)*(E2 + B2)*(a*H*phipr + a**2*Vpr + a**2*I1pr*(E2 + B2)/6) \\\n",
    "                                + a**2*I1*(E2pr + B2pr)*(a*H*phipr + a**2*Vpr + a**2*I1pr*(E2 + B2)/6) \\\n",
    "                                + a**2*I1*(E2 + B2)*(2*a*a*H*H*phipr + a*a*Hdot*phipr + a**3*H*phiddot + 2*a**3*H*Vpr + a**2*Vppr*phipr \\\n",
    "                                                    +(1/6)*(2*a**3*H*I1pr*(E2+B2) + a**2*I1ppr*phipr*(E2+B2) + a**2*I1pr*(E2pr + B2pr))))\n",
    "    M22pr = M22prepr*(M22fac1 + M22fac2) + M22pre*(M22fac1pr + M22fac2pr)\n",
    " \n",
    "\n",
    "\n",
    "    # c coefficients [Eqs. (85) and (89)-(91)]\n",
    "    c1v = (-1*H)/(a*Hdot)\n",
    "    c1rho = np.zeros(c1v.shape)\n",
    "    c1pi = np.zeros(c1v.shape)\n",
    "    c1arr = array([c1v, c1rho, c1pi])   # array of c1v, c1rho and c1pi in that order\n",
    "\n",
    "    c2vpre = H/((Mpl**2)*a*(Hdot**2))\n",
    "    c2vfac1 = phipr*(Vpr - (I1pr*(E2 - B2))/6 - (I2pr*EB)/3)\n",
    "    c2vfac2 = (-2/3)*a*H*I1*(E2 + B2)\n",
    "    c2v = c2vpre*(c2vfac1 + c2vfac2)\n",
    "    c2rho = (2/3)*H/(a*Hdot)\n",
    "    c2pi = (2/3)*(H/(a*Hdot))*(k**2 + a*a*I1*E2/(Mpl**2))\n",
    "    c2arr = array([c2v, c2rho, c2pi])   # array of c2v, c2rho and c2pi in that order\n",
    "\n",
    "    # derivatives of c2 coefficients used below\n",
    "    c2vprepr = (1/Mpl**2)*(1 - (H*H*Hdot + 2*H*Hddot)/(Hdot**2))/Hdot\n",
    "    c2vfac1pr = (a*H*phipr + a*a*phiddot)*(Vpr - (I1pr*(E2 - B2))/6 - (I2pr*EB)/3) \\\n",
    "        + phipr*(Vppr*phipr - (I1ppr*phipr*(E2 - B2) + I1pr*(E2pr - B2pr))/6 - (I2ppr*phipr*EB + I2pr*EBpr)/3)\n",
    "    c2vfac2pr = (-2/3)*(a*a*H*H*I1*(E2 + B2) + a*a*Hdot*I1*(E2 + B2) + a*H*I1pr*phipr*(E2 + B2) + a*H*I1*(E2pr + B2pr))\n",
    "    c2vpr = c2vprepr*(c2vfac1 + c2vfac2) + c2vpre*(c2vfac1pr + c2vfac2pr)\n",
    "    c2rhopr = (2/3)*(1 - H*H/Hdot + H*Hddot/(Hdot*Hdot))\n",
    "    c2pipr = (2/3)*(1 - H*H/Hdot + H*Hddot/(Hdot*Hdot))*(k**2 + a*a*I1*E2/(Mpl**2)) \\\n",
    "        + (2/3)*(H/(a*Hdot))*(2*a**3*H*I1*E2 + a*a*I1pr*phipr*E2 + a*a*I1*E2pr)/Mpl**2\n",
    "\n",
    "\n",
    "\n",
    "    # dPhi and ddelphi\n",
    "    dPh_c2rhofac = (a**2/phipr)*(I1pr*E2 + I2pr*EB)*(k**2 + a**2*I1*B2/Mpl**2) \\\n",
    "        - (a**2*phipr/(2*Mpl**2))*(I1pr*E2 + 3*I2pr*EB) - (a**2/Mpl**2)*I1*(a*H*E2 - 2*EB1)\n",
    "    dPh = M21pr - a*H*M21 + (2*Mpl**2/phipr)*(-1*k**2 + phipr**2/(2*Mpl**2) - (a**2/Mpl**2)*I1*B2)*M22 \\\n",
    "        + (a**2/(3*Mpl**2))*I1*(E2 + 2*B2)*c2v + dPh_c2rhofac*c2rho\n",
    "\n",
    "    ddelph_c2rhofac = (I1pr*E2 +I2pr*EB)*(3*a*H + (a**2/phipr)*Vpr + (a**2/(2*phipr))*I1pr*(E2 + B2)) \\\n",
    "        - phipr*((I1ppr - I1pr**2/I1)*E2 + (I2ppr - I1pr*I2pr/I1)*EB) + (phipr/Mpl**2)*I1*E2\n",
    "    ddelph = M22pr + (phipr/(2*Mpl**2))*M21 - (3*a*H + a**2*Vpr/phipr + a**2*I1pr*(E2 + B2)/(2*phipr))*M22\\\n",
    "        -(a**2/(6*Mpl**2))*(I1pr*(E2 - 2*B2) + 3*I2pr*EB)*c2v + (a**2/(2*Mpl**2))*ddelph_c2rhofac*c2rho\n",
    "\n",
    "    # darr\n",
    "    dv = c2vpr - 2*a*H*c2v + M21 - (6*Mpl**2*a*H/phipr)*M22 \\\n",
    "        + (-1*k**2 + (a**2/Mpl**2)*I1*E2 + (3*a**3*H/phipr)*(I1pr*E2 + I2pr*EB))*c2rho\n",
    "    drho = c2rhopr + (-2*a*H + I1pr*phipr/I1 + (a**2/phipr)*(I1pr*E2 + I2pr*EB))*c2rho +c2v/3 - (2*Mpl**2/phipr)*M22\n",
    "    \n",
    "    d1pi_c2rhofac = phipr*(I1pr*E2 + 2*I2pr*EB) + (a**2/phipr)*I1*E2*(I1pr*E2 + I2pr*EB) + 2*I1*(a*H*E2 - EB1)\n",
    "    d1pi = c2pipr + 2*a*H*M21 - (2*phipr + 2*a**2*I1*E2/phipr)*M22 \\\n",
    "        -(2*k**2/3 + (a**2/(3*Mpl**2))*I1*(E2 + 2*B2))*c2v + (a**2/Mpl**2)*d1pi_c2rhofac*c2rho\n",
    "    \n",
    "    darr = array([dv, drho, d1pi])  # array of dv, drho and d1pi in that order\n",
    "\n",
    "    # remaining d coefficients [Eqs. (101)-(103)] \n",
    "    d2pi = c2pi - (a**2/Mpl**2)*I1*E2*c2rho\n",
    "    dE2 = -1*(a**2*phipr/(2*Mpl**2))*I1pr*c2rho\n",
    "    dEB = -1*(a**2*phipr/(2*Mpl**2))*I2pr*c2rho\n",
    "\n",
    "\n",
    "\n",
    "    # r prefactors [Eqs. (107)-(110)]\n",
    "    rarr = darr - dPh*(Minvmat[0,0]*c1arr + Minvmat[0,1]*c2arr) \\\n",
    "        - ddelph*(Minvmat[1,0]*c1arr + Minvmat[1,1]*c2arr)  # array of rv, rrho and r1pi in that order\n",
    "    r2pi= d2pi\n",
    "    rE2 = dE2\n",
    "    rEB = dEB\n",
    "\n",
    "    return [rarr[0], rarr[1],rarr[2], r2pi,rE2,rEB]  # array of rv, rrho, r1pi, r2pi, rE2, rEB\n",
    "\n",
    "rarr1 = prefac_arr(H,1e5*H.H0)\n",
    "# rarr2 = prefac_arr(H,1e10)\n",
    "# rarr3 = prefac_arr(H,1e15)"
   ]
  },
  {
   "cell_type": "code",
   "execution_count": 36,
   "metadata": {},
   "outputs": [
    {
     "data": {
      "image/png": "[encoded data removed]",
      "text/plain": [
       "<Figure size 640x480 with 1 Axes>"
      ]
     },
     "metadata": {},
     "output_type": "display_data"
    }
   ],
   "source": [
    "plt.plot(H.vals[\"N\"], abs(rarr1[0]))\n",
    "plt.yscale(\"log\")"
   ]
  },
  {
   "cell_type": "code",
   "execution_count": null,
   "metadata": {},
   "outputs": [],
   "source": []
  }
 ],
 "metadata": {
  "kernelspec": {
   "display_name": "Python 3 (ipykernel)",
   "language": "python",
   "name": "python3"
  },
  "language_info": {
   "codemirror_mode": {
    "name": "ipython",
    "version": 3
   },
   "file_extension": ".py",
   "mimetype": "text/x-python",
   "name": "python",
   "nbconvert_exporter": "python",
   "pygments_lexer": "ipython3",
   "version": "3.10.11"
  }
 },
 "nbformat": 4,
 "nbformat_minor": 4
}
