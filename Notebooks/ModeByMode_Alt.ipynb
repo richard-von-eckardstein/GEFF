{
 "cells": [
  {
   "cell_type": "code",
   "execution_count": 1,
   "id": "e53ecd92",
   "metadata": {},
   "outputs": [],
   "source": [
    "import numpy as np\n",
    "import matplotlib.pyplot as plt\n",
    "from mpmath import whitw\n",
    "from scipy.integrate import solve_ivp\n",
    "from scipy.integrate import odeint\n",
    "from scipy.integrate import quad\n",
    "import pandas as pd\n",
    "import math\n",
    "from scipy.interpolate import CubicSpline\n",
    "from scipy.optimize import fsolve\n",
    "from timer import Timer\n",
    "import os"
   ]
  },
  {
   "cell_type": "code",
   "execution_count": 2,
   "id": "978c089b",
   "metadata": {},
   "outputs": [],
   "source": [
    "alpha = 0\n",
    "beta = 25\n",
    "Mpl = 1."
   ]
  },
  {
   "cell_type": "code",
   "execution_count": 3,
   "id": "c9dd957d",
   "metadata": {},
   "outputs": [],
   "source": [
    "def ModeEoM(A, k, dphidt, dIdphi, a, sigmaE=0, sigmaB=0):\n",
    "    #omega=1.\n",
    "    dAdt = np.zeros(A.size)\n",
    "    \n",
    "    drag = a**(-alpha) * sigmaE\n",
    "    dis1 = k * a**(alpha-1)\n",
    "    dis2 = dIdphi * dphidt + a**(alpha)*sigmaB\n",
    "\n",
    "    #positive helicity\n",
    "    lam = 1.\n",
    "    #Real Part\n",
    "    dAdt[0] = A[1]*(k/a)*a**(alpha)\n",
    "    dAdt[1] = -( drag * A[1] + (dis1  - lam * dis2) * A[0] )\n",
    "    \n",
    "    #Imaginary Part\n",
    "    dAdt[2] = A[3]*(k/a)*a**(alpha)\n",
    "    dAdt[3] = -( drag * A[3] + (dis1  - lam * dis2) * A[2] )\n",
    "    \n",
    "    \n",
    "    #negative helicity\n",
    "    lam = -1.\n",
    "    #Real Part\n",
    "    dAdt[4] = A[5]*(k/a)*a**(alpha)\n",
    "    dAdt[5] = -( drag * A[5] + (dis1  - lam * dis2) * A[4] )\n",
    "    \n",
    "    #Imaginary Part\n",
    "    dAdt[6] = A[7]*(k/a)*a**(alpha)\n",
    "    dAdt[7] = -( drag * A[7] + (dis1  - lam * dis2) * A[6] )\n",
    "    \n",
    "    return dAdt"
   ]
  },
  {
   "cell_type": "code",
   "execution_count": 4,
   "id": "c8fe302e",
   "metadata": {},
   "outputs": [],
   "source": [
    "def ModeByModeKDep(tmin, tmax, tend, kh, dphidt, dIdphi, a, sigmaE, sigmaB, kFerm, delta=1, steps=100, cut=0.1,\n",
    "               save=False, KDepDamp=False):\n",
    "    dt = (tmax-tmin)/(steps)\n",
    "    ts = np.arange(tmin, tend, dt)        \n",
    "    \n",
    "    Ap = []\n",
    "    dApdt = []\n",
    "    Am = []\n",
    "    dAmdt = []\n",
    "    ks = []\n",
    "    t2 = Timer()\n",
    "    t2.start()\n",
    "    for i in range(1,steps):\n",
    "        s = ts[i]\n",
    "        if (kh(s)/kh(ts[i-1]) > cut): \n",
    "            k = 10**(5/2)*kh(s)\n",
    "            #t1 = Timer()\n",
    "            ks.append(k)\n",
    "            sigmaEkV = []\n",
    "            sigmaBkV = []\n",
    "            \n",
    "            for t in ts[i:]:\n",
    "                #print(x)\n",
    "                if (np.log(kFerm(t)/k)>0):\n",
    "                    sigmaEkV.append(sigmaE(t))\n",
    "                    sigmaBkV.append(sigmaB(t))\n",
    "                else:\n",
    "                    sigmaEkV.append(0.)\n",
    "                    sigmaBkV.append(0.)\n",
    "                #print(s, tferm, t, sigmaEkV[-1])\n",
    "            sigmaEkV = np.array(sigmaEkV)\n",
    "            sigmaBkV = np.array(sigmaBkV)\n",
    "\n",
    "            sigmaEk = CubicSpline(ts[i:], sigmaEkV)\n",
    "            sigmaBk = CubicSpline(ts[i:], sigmaBkV)\n",
    "\n",
    "            \n",
    "            #t1.start()\n",
    "            Aini = np.array([1., 0, -1/2* sigmaEk(s) /k, -1.,\n",
    "                             1, 0, -1/2* sigmaEk(s) /k, -1.])*np.sqrt(delta(s))\n",
    "            ode = lambda x, y: ModeEoM(y, k, dphidt(x), dIdphi, a(x), sigmaE=sigmaEk(x), sigmaB=sigmaBk(x))\n",
    "            \n",
    "            sol = solve_ivp(ode, [s, ts[-1]], Aini, t_eval=ts[i:], method=\"RK45\", atol=1e-8, rtol=1e-8)\n",
    "            \n",
    "            #vacuum will not contribute to integrals, so we set this part to 0 to have equal length arrays\n",
    "            vac = list((1+0j)*np.ones((i)))\n",
    "            dvacdt = list((0.-1j)*np.ones((i)))\n",
    "            \n",
    "            Aptmp = list(np.array(sol.y[0,:]) + np.array(sol.y[2,:])*1j)\n",
    "            Ap.append([*vac, *Aptmp])\n",
    "            \n",
    "            dAptmp = list(np.array(sol.y[1,:]) + np.array(sol.y[3,:])*1j)\n",
    "            dApdt.append([*dvacdt, *dAptmp])\n",
    "            \n",
    "            \n",
    "            Amtmp = list(np.array(sol.y[4,:]) + np.array(sol.y[6,:])*1j)\n",
    "            Am.append([*vac, *Amtmp])\n",
    "            \n",
    "            dAmtmp = list(np.array(sol.y[5,:]) + np.array(sol.y[7,:])*1j)\n",
    "            dAmdt.append([*dvacdt, *dAmtmp])\n",
    "\n",
    "            #t1.stop()\n",
    "        else:\n",
    "            print(\"skip\")\n",
    "            continue\n",
    "            \n",
    "    Ap = np.array(Ap)\n",
    "    dApdt = np.array(dApdt)            \n",
    "    Am = np.array(Am)\n",
    "    dAmdt = np.array(dAmdt)\n",
    "    \n",
    "    t2.stop()\n",
    "    \n",
    "    if save:\n",
    "        SaveMode(ts, ks, Ap, dApdt, Am, dAmdt, af)\n",
    "                   \n",
    "    \n",
    "    return Ap, dApdt, Am, dAmdt, ks, ts"
   ]
  },
  {
   "cell_type": "code",
   "execution_count": 5,
   "id": "89af148e",
   "metadata": {},
   "outputs": [],
   "source": [
    "def EBGnIntegrandMode(k, A1, A2, lam, a, n):\n",
    "    \n",
    "    Eterm = abs(A2)**2\n",
    "    \n",
    "    Bterm = abs(A1)**2\n",
    "    \n",
    "    Gterm = lam*(A1.conjugate() * A2).real\n",
    "    \n",
    "    #prefac modified to account for sqrt(2k) factor in modes\n",
    "    prefac = lam**n * 1/(2*np.pi)**2 * (k/a)**(n+3)/a\n",
    "    \n",
    "    #ErotnE = int(Edk) \n",
    "    E = prefac * Eterm\n",
    "    \n",
    "    #BrotnB = int(Bdk) \n",
    "    B = prefac * Bterm\n",
    "    \n",
    "    #-ErotnB = int(Gdk)\n",
    "    G = prefac * Gterm\n",
    "    return E, B, G\n",
    "\n",
    "def ComputeEBGnMode(AP, AM, dAP, dAM, a, ks, kh, n):\n",
    "    #AP AM dAP, dAM are sqrt(2k)Ap etc.\n",
    "    m = len(ks)\n",
    "    Es = []\n",
    "    Bs = []\n",
    "    Gs = []\n",
    "    for k in range(m):\n",
    "        Ep, Bp, Gp = EBGnIntegrandMode(ks[k], AP[k], dAP[k], 1.0, a, n)\n",
    "        Em, Bm, Gm = EBGnIntegrandMode(ks[k], AM[k], dAM[k], -1.0, a, n)\n",
    "        Es.append(Ep + Em)\n",
    "        Bs.append(Bp + Bm)\n",
    "        Gs.append(Gp + Gm)\n",
    "    \n",
    "    En, Bn, Gn = 0, 0, 0\n",
    "    \n",
    "    for k in range(1,m):\n",
    "        if (ks[k-1]<kh):\n",
    "            #print(kh)\n",
    "            dk = ks[k]-ks[k-1]\n",
    "            En += dk*(Es[k] + Es[k-1])/2\n",
    "            Bn += dk*(Bs[k] + Bs[k-1])/2\n",
    "            Gn += dk*(Gs[k] + Gs[k-1])/2\n",
    "        else:\n",
    "            return En, Bn, Gn\n",
    "\n",
    "    return En, Bn, Gn\n",
    "\n",
    "def ComputeEBGnCorr(AP, AM, dAP, dAM, a, ks, kh, n):\n",
    "    #AP AM dAP, dAM are sqrt(2k)Ap etc.\n",
    "    m = len(ks)\n",
    "    Es = []\n",
    "    Bs = []\n",
    "    Gs = []\n",
    "    for k in range(m):\n",
    "        Ep, Bp, Gp = EBGnIntegrandMode(ks[k], AP[k], dAP[k], 1.0, a, n)\n",
    "        Em, Bm, Gm = EBGnIntegrandMode(ks[k], AM[k], dAM[k], -1.0, a, n)\n",
    "        Es.append(Ep + Em)\n",
    "        Bs.append(Bp + Bm)\n",
    "        Gs.append(Gp + Gm)\n",
    "    \n",
    "    En, Bn, Gn = 0, 0, 0\n",
    "    \n",
    "    for k in range(1,m):\n",
    "        if (ks[k-1]<kh):\n",
    "            #print(kh)\n",
    "            dk = ks[k]-ks[k-1]\n",
    "            En += 2*np.pi*dk*(Es[k]/ks[k] + Es[k-1]/ks[k-1])/2\n",
    "            Bn += 2*np.pi*dk*(Bs[k]/ks[k] + Bs[k-1]/ks[k-1])/2\n",
    "            Gn += 2*np.pi*dk*(Gs[k]/ks[k] + Gs[k-1]/ks[k-1])/2\n",
    "        else:\n",
    "            return En, Bn, Gn\n",
    "\n",
    "    return En, Bn, Gn\n",
    "\n",
    "def ComputeEBGnModeInterp(AP, AM, dAP, dAM, a, ks, kh, n):\n",
    "    m = len(ks)\n",
    "    Es = []\n",
    "    Bs = []\n",
    "    Gs = []\n",
    "    for k in range(m):\n",
    "        Ep, Bp, Gp = EBGnIntegrandMode(ks[k], AP[k], dAP[k], 1.0, a, n)\n",
    "        Em, Bm, Gm = EBGnIntegrandMode(ks[k], AM[k], dAM[k], -1.0, a, n)\n",
    "        Es.append(Ep + Em)\n",
    "        Bs.append(Bp + Bm)\n",
    "        Gs.append(Gp + Gm)\n",
    "        \n",
    "    Es = np.array(Es)\n",
    "    Bs = np.array(Bs)\n",
    "    Gs = np.array(Gs)\n",
    "        \n",
    "    E = lambda x: CubicSpline(ks, Es)(x)\n",
    "    B = lambda x: CubicSpline(ks, Bs)(x)\n",
    "    G = lambda x: CubicSpline(ks, Gs)(x)\n",
    "    \n",
    "    kmin = min(ks)\n",
    "    \n",
    "    En = quad(E, kmin, kh)[0]\n",
    "    Bn = quad(B, kmin, kh)[0]\n",
    "    Gn = quad(G, kmin, kh)[0]\n",
    "\n",
    "    return En, Bn, Gn"
   ]
  },
  {
   "cell_type": "code",
   "execution_count": 6,
   "id": "dba888a9",
   "metadata": {},
   "outputs": [],
   "source": [
    "def EstimateCorrLen(AP, AM, dAP, dAM, a, ks, kh):\n",
    "    #E0, B0, G0 = ComputeEBGnMode(AP, AM, dAP, dAM, a, ks, kh, 0)\n",
    "    Ek, Bk, Gk = ComputeEBGnCorr(AP, AM, dAP, dAM, a, ks, kh, 0)\n",
    "    corrlenE = Ek#/E0\n",
    "    corrlenB = Bk#/B0\n",
    "    corrlenG = Gk#/G0\n",
    "    return corrlenE, corrlenB, corrlenG"
   ]
  },
  {
   "cell_type": "code",
   "execution_count": 38,
   "id": "a0b65061",
   "metadata": {},
   "outputs": [],
   "source": [
    "def EstimateCorrLenInt(AP, AM, dAP, dAM, a, ks, kh):\n",
    "    E0, B0, G0 = ComputeEBGnMode(AP, AM, dAP, dAM, a, ks, kh, 0)\n",
    "    Ek, Bk, Gk = ComputeEBGnCorr(AP, AM, dAP, dAM, a, ks, kh, 0)\n",
    "    if(E0 == 0 or B0 == 0 or G0 == 0):\n",
    "        corrlenE = 1e-100\n",
    "        corrlenB = 1e-100\n",
    "        corrlenG = 1e-100\n",
    "    else:\n",
    "        corrlenE = Ek/E0\n",
    "        corrlenB = Bk/B0\n",
    "        corrlenG = Gk/G0\n",
    "    return corrlenE, corrlenB, corrlenG"
   ]
  },
  {
   "cell_type": "code",
   "execution_count": 8,
   "id": "e3f27fa5",
   "metadata": {},
   "outputs": [],
   "source": [
    "def ReadModeFile(file):\n",
    "    input_df = pd.read_table(file, sep=\",\")\n",
    "    dataAp = input_df.values\n",
    "\n",
    "    x = np.arange(3,dataAp.shape[1], 4)\n",
    "    \n",
    "    t = np.array(dataAp[1:,1])\n",
    "    N = np.array(dataAp[1:,2])\n",
    "    logk = np.array([(complex(dataAp[0,y])).real for y in x])\n",
    "    Ap = np.array([[complex(dataAp[i+1,y]) for i in range(len(N))] for y in x])\n",
    "    dAp = np.array([[complex(dataAp[i+1,y+1]) for i in range(len(N))] for y in x])\n",
    "    Am = np.array([[complex(dataAp[i+1,y+2]) for i in range(len(N))] for y in x])\n",
    "    dAm = np.array([[complex(dataAp[i+1,y+3]) for i in range(len(N))] for y in x])\n",
    "    \n",
    "    return t, N, logk, Ap, dAp, Am, dAm"
   ]
  },
  {
   "cell_type": "code",
   "execution_count": 53,
   "id": "d2592af8",
   "metadata": {},
   "outputs": [],
   "source": [
    "name = \"mix_KDep_v13.1_2it\""
   ]
  },
  {
   "cell_type": "code",
   "execution_count": 54,
   "id": "a5f7624c",
   "metadata": {},
   "outputs": [],
   "source": [
    "file = \"Out/GEF_Beta25.0_SE\" + name + \".dat\"\n",
    "input_df = pd.read_table(file, sep=\",\")\n",
    "data = dict(zip(input_df.columns[1:],input_df.values[1:,1:].T))\n",
    "\n",
    "tG = data[\"t\"]\n",
    "NG = data[\"N\"]\n",
    "kSG = data[\"kS\"]\n",
    "khG = data[\"kh\"]\n",
    "aG = data[\"a\"]\n",
    "HG = data[\"H\"]\n",
    "EG = data[\"E\"]\n",
    "BG = data[\"B\"]\n",
    "GG = data[\"G\"]\n"
   ]
  },
  {
   "cell_type": "code",
   "execution_count": 57,
   "id": "98336819",
   "metadata": {},
   "outputs": [
    {
     "data": {
      "image/png": "[encoded data removed]",
      "text/plain": [
       "<Figure size 640x480 with 1 Axes>"
      ]
     },
     "metadata": {},
     "output_type": "display_data"
    }
   ],
   "source": [
    "plt.plot(NG, HG, label=\"H\")\n",
    "plt.plot(NG, kSG/aG, label=\"kS\")\n",
    "plt.plot(NG, khG/aG, label=\"kS\")\n",
    "plt.vlines(27.5, 0., 5.)\n",
    "plt.legend(loc=0)\n",
    "plt.show()"
   ]
  },
  {
   "cell_type": "code",
   "execution_count": 62,
   "id": "d19e5ed3",
   "metadata": {},
   "outputs": [
    {
     "data": {
      "image/png": "[encoded data removed]",
      "text/plain": [
       "<Figure size 640x480 with 1 Axes>"
      ]
     },
     "metadata": {},
     "output_type": "display_data"
    }
   ],
   "source": [
    "plt.plot(NG, khG)\n",
    "plt.plot(NG, 10**(5/2)*khG)\n",
    "plt.yscale(\"log\")\n",
    "plt.plot(NG, np.ones(NG.size)*CubicSpline(NG, khG)(35.)*10**(-3/2))\n",
    "plt.vlines(31.5, 0., 1e30)\n",
    "plt.show()"
   ]
  },
  {
   "cell_type": "code",
   "execution_count": 63,
   "id": "49bad9e0",
   "metadata": {},
   "outputs": [],
   "source": [
    "file = \"Out/GEF_Beta25.0_SE\" + name + \".dat\"\n",
    "input_df = pd.read_table(file, sep=\",\")\n",
    "#data = input_df.values\n",
    "omega = 3.814203717684728e-05\n",
    "data = dict(zip(input_df.columns[1:],input_df.values[1:,1:].T))\n",
    "NR = data[\"N\"]\n",
    "tR = data[\"t\"]\n",
    "aR = data[\"a\"]\n",
    "khR = data[\"kh\"]\n",
    "dphidtR = data[\"dphi\"]\n",
    "af = CubicSpline(tR, aR)\n",
    "dphidtf = CubicSpline(tR, dphidtR)\n",
    "khf = CubicSpline(tR, khR)\n",
    "sigmaER = data[\"sigmaE\"]\n",
    "sigmaBR = data[\"sigmaB\"]\n",
    "\n",
    "sigmaEf = CubicSpline(tR, sigmaER)\n",
    "sigmaBf = CubicSpline(tR, sigmaBR)\n",
    "kSR = data[\"kS\"]\n",
    "\n",
    "deltaf = lambda t: 1.\n",
    "\n",
    "kSf = CubicSpline(tR[1:], kSR[1:])"
   ]
  },
  {
   "cell_type": "code",
   "execution_count": 64,
   "id": "88e1c452",
   "metadata": {},
   "outputs": [
    {
     "name": "stdout",
     "output_type": "stream",
     "text": [
      "27.421029154892437 29.96467938625325\n"
     ]
    }
   ],
   "source": [
    "tini = CubicSpline(tR, NR)(31.5)\n",
    "steps = 500\n",
    "tfin = CubicSpline(tR, NR)(35.)\n",
    "print(tini, tfin)"
   ]
  },
  {
   "cell_type": "code",
   "execution_count": 66,
   "id": "81087161",
   "metadata": {},
   "outputs": [
    {
     "name": "stdout",
     "output_type": "stream",
     "text": [
      "skip\n",
      "Elapsed time: 623.2138 seconds\n"
     ]
    }
   ],
   "source": [
    "Ap, dAp, Am, dAm, ks, ts = ModeByModeKDep(1., tini, tfin, khf, dphidtf, beta/Mpl, af, kFerm=kSf,\n",
    "                                                        steps=steps, sigmaE=sigmaEf, sigmaB=sigmaBf, delta=deltaf)"
   ]
  },
  {
   "cell_type": "code",
   "execution_count": 67,
   "id": "7e873b68",
   "metadata": {},
   "outputs": [
    {
     "name": "stderr",
     "output_type": "stream",
     "text": [
      "/tmp/ipykernel_206071/613017235.py:3: RuntimeWarning: invalid value encountered in log\n",
      "  Ns = np.log(a)\n"
     ]
    }
   ],
   "source": [
    "khs = khf(ts)\n",
    "a = af(ts)\n",
    "Ns = np.log(a)"
   ]
  },
  {
   "cell_type": "code",
   "execution_count": 68,
   "id": "015b309c",
   "metadata": {},
   "outputs": [],
   "source": [
    "\n",
    "lenE = []\n",
    "lenB = []\n",
    "lenG = []\n",
    "#print(Ap[60,:])\n",
    "#print(ts.size)\n",
    "for i in range(len(ts)):\n",
    "    Etmp, Btmp, Gtmp = EstimateCorrLen(Ap[:,i], Am[:,i], dAp[:,i], dAm[:,i], a[i], ks, khs[i])\n",
    "    lenE.append(Etmp)\n",
    "    lenB.append(Btmp)\n",
    "    lenG.append(Gtmp)\n",
    "    \n",
    "lenE = np.array(lenE)\n",
    "lenB = np.array(lenB)\n",
    "lenG = np.array(lenG)"
   ]
  },
  {
   "cell_type": "code",
   "execution_count": 69,
   "id": "3c52bfeb",
   "metadata": {},
   "outputs": [],
   "source": [
    "lenE2 = []\n",
    "lenB2 = []\n",
    "lenG2 = []\n",
    "#print(Ap[60,:])\n",
    "#print(ts.size)\n",
    "for i in range(len(ts)):\n",
    "    Etmp, Btmp, Gtmp = EstimateCorrLenInt(Ap[:,i], Am[:,i], dAp[:,i], dAm[:,i], af(ts[i]), ks, khs[i])\n",
    "    lenE2.append(Etmp)\n",
    "    lenB2.append(Btmp)\n",
    "    lenG2.append(Gtmp)\n",
    "    \n",
    "lenE2 = np.array(lenE2)\n",
    "lenB2 = np.array(lenB2)\n",
    "lenG2 = np.array(lenG2)"
   ]
  },
  {
   "cell_type": "code",
   "execution_count": 70,
   "id": "2287d937",
   "metadata": {},
   "outputs": [
    {
     "name": "stderr",
     "output_type": "stream",
     "text": [
      "/tmp/ipykernel_206071/2017646891.py:1: RuntimeWarning: divide by zero encountered in divide\n",
      "  plt.plot(Ns, CubicSpline(tG,EG/aG)(ts)/(lenE), label=r\"$\\lambda_E^{-1}$\")\n",
      "/tmp/ipykernel_206071/2017646891.py:2: RuntimeWarning: divide by zero encountered in divide\n",
      "  plt.plot(Ns, CubicSpline(tG,BG/aG)(ts)/(lenB), label=r\"$\\lambda_B^{-1}$\")\n",
      "/tmp/ipykernel_206071/2017646891.py:3: RuntimeWarning: divide by zero encountered in divide\n",
      "  plt.plot(Ns, CubicSpline(tG,GG/aG)(ts)/(lenG), label=r\"$\\lambda_G^{-1}$\")\n"
     ]
    },
    {
     "data": {
      "text/plain": [
       "(0.001, 10000000000.0)"
      ]
     },
     "execution_count": 70,
     "metadata": {},
     "output_type": "execute_result"
    },
    {
     "data": {
      "image/png": "[encoded data removed]",
      "text/plain": [
       "<Figure size 640x480 with 1 Axes>"
      ]
     },
     "metadata": {},
     "output_type": "display_data"
    }
   ],
   "source": [
    "plt.plot(Ns, CubicSpline(tG,EG/aG)(ts)/(lenE), label=r\"$\\lambda_E^{-1}$\")\n",
    "plt.plot(Ns, CubicSpline(tG,BG/aG)(ts)/(lenB), label=r\"$\\lambda_B^{-1}$\")\n",
    "plt.plot(Ns, CubicSpline(tG,GG/aG)(ts)/(lenG), label=r\"$\\lambda_G^{-1}$\")\n",
    "plt.plot(Ns, 1/(lenE2)*CubicSpline(tG,aG)(ts), label=r\"$\\lambda_E^{-1}$ int\")\n",
    "plt.plot(Ns, 1/(lenB2), label=r\"$\\lambda_B^{-1}$ int\")\n",
    "plt.plot(Ns, CubicSpline(tG,1/aG)(ts)/(lenG2), label=r\"$\\lambda_G^{-1}$ int\")\n",
    "plt.xlim(5, 20)\n",
    "plt.yscale(\"log\")\n",
    "plt.legend(loc=0)\n",
    "plt.ylim(1e-3, 1e10)"
   ]
  },
  {
   "cell_type": "code",
   "execution_count": 46,
   "id": "1fc184ba",
   "metadata": {},
   "outputs": [
    {
     "name": "stderr",
     "output_type": "stream",
     "text": [
      "/tmp/ipykernel_206071/3822697752.py:4: RuntimeWarning: divide by zero encountered in divide\n",
      "  plt.plot(Ns, CubicSpline(tG,EG/aG)(ts)/(lenE), label=r\"$\\lambda_E^{-1}$\")\n"
     ]
    },
    {
     "data": {
      "image/png": "[encoded data removed]",
      "text/plain": [
       "<Figure size 640x480 with 1 Axes>"
      ]
     },
     "metadata": {},
     "output_type": "display_data"
    }
   ],
   "source": [
    "plt.plot(NG, HG, label=\"H\")\n",
    "plt.plot(NG, kSG/aG, label=\"kS\")\n",
    "plt.plot(NG, khG/aG, label=\"kh\")\n",
    "plt.plot(Ns, CubicSpline(tG,EG/aG)(ts)/(lenE), label=r\"$\\lambda_E^{-1}$\")\n",
    "plt.plot(Ns, CubicSpline(tG,1/aG)(ts)/(lenE2), label=r\"$\\lambda_E^{-1}$ internal\")\n",
    "#plt.vlines(27.5, 0., 5.)\n",
    "plt.legend(loc=0)\n",
    "plt.xlim(10, 20)\n",
    "#plt.ylim(0, 1.2)\n",
    "#plt.yscale(\"log\")\n",
    "plt.show()"
   ]
  },
  {
   "cell_type": "markdown",
   "id": "d679217a",
   "metadata": {},
   "source": [
    " "
   ]
  }
 ],
 "metadata": {
  "kernelspec": {
   "display_name": "Python 3 (ipykernel)",
   "language": "python",
   "name": "python3"
  },
  "language_info": {
   "codemirror_mode": {
    "name": "ipython",
    "version": 3
   },
   "file_extension": ".py",
   "mimetype": "text/x-python",
   "name": "python",
   "nbconvert_exporter": "python",
   "pygments_lexer": "ipython3",
   "version": "3.10.11"
  }
 },
 "nbformat": 4,
 "nbformat_minor": 5
}
