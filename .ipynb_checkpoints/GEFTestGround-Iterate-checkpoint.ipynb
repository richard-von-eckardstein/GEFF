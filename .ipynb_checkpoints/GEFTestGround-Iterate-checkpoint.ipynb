{
 "cells": [
  {
   "cell_type": "code",
   "execution_count": 1,
   "id": "bf89e9c7",
   "metadata": {
    "scrolled": true
   },
   "outputs": [],
   "source": [
    "import numpy as np\n",
    "import matplotlib.pyplot as plt\n",
    "import pandas as pd\n",
    "from importlib import reload\n",
    "import GEFv6\n",
    "reload(GEFv6)\n",
    "from GEFv6 import GEF\n",
    "#from GEF import GEF as GEF2\n",
    "from utilities import PlotComp\n",
    "from scipy.interpolate import CubicSpline, RectBivariateSpline\n",
    "from scipy.integrate import quad\n",
    "from scipy.optimize import fsolve\n",
    "import os"
   ]
  },
  {
   "cell_type": "code",
   "execution_count": 2,
   "id": "4cba63c1",
   "metadata": {},
   "outputs": [],
   "source": [
    "alpha = 0.\n",
    "Mpl = 1.\n",
    "beta = 25.\n",
    "M = 6e-6*Mpl\n",
    "phi0 = 15.55*Mpl\n",
    "dphidt0 = -np.sqrt(2/3)*M*Mpl\n",
    "ini = {\"phi\":phi0, \"dphi\":dphidt0, \"delta\":1.0, \"rhoChi\":0.0}\n",
    "SE = -1.0\n",
    "ntr = 55\n",
    "H = GEF(alpha, beta, Mpl, ini, M, ntr, SE, AltDamp=2, approx=True)\n",
    "#G = GEF(alpha, beta, Mpl, ini, M, ntr, SE, AltDamp=0, approx=True)\n",
    "tend = 118."
   ]
  },
  {
   "cell_type": "code",
   "execution_count": 3,
   "id": "6cf9181c",
   "metadata": {},
   "outputs": [
    {
     "name": "stdout",
     "output_type": "stream",
     "text": [
      "Elapsed time: 35.4983 seconds\n"
     ]
    }
   ],
   "source": [
    "sol = H.RunGEF(t1=tend)\n",
    "\n",
    "H.Unitful()\n",
    "Ntmp = H.vals[\"N\"]\n",
    "Etmp = H.vals[\"E\"]\n",
    "Btmp = H.vals[\"B\"]\n",
    "Gtmp = abs(H.vals[\"G\"])\n",
    "deltatmp = H.vals[\"delta\"]"
   ]
  },
  {
   "cell_type": "code",
   "execution_count": 4,
   "id": "6acb8809",
   "metadata": {},
   "outputs": [],
   "source": [
    "H.Unitless()\n",
    "H.SaveData()"
   ]
  },
  {
   "cell_type": "code",
   "execution_count": null,
   "id": "8d5bcd43",
   "metadata": {},
   "outputs": [],
   "source": []
  },
  {
   "cell_type": "code",
   "execution_count": 4,
   "id": "1ebb9cad",
   "metadata": {
    "scrolled": true
   },
   "outputs": [
    {
     "name": "stdout",
     "output_type": "stream",
     "text": [
      "True\n"
     ]
    }
   ],
   "source": [
    "print(sol.success)"
   ]
  },
  {
   "cell_type": "code",
   "execution_count": null,
   "id": "91059433",
   "metadata": {},
   "outputs": [
    {
     "name": "stderr",
     "output_type": "stream",
     "text": [
      "/home/users/rfreiher/Documents/Axion_Inflation/GEF/GEFv6.py:760: RuntimeWarning: invalid value encountered in log\n",
      "  f = lambda x: np.log(kSf(x)/khf(ts[i]))\n",
      "/home/users/rfreiher/.conda/envs/ptarcade/lib/python3.10/site-packages/scipy/optimize/_minpack_py.py:177: RuntimeWarning: The iteration is not making good progress, as measured by the \n",
      "  improvement from the last ten iterations.\n",
      "  warnings.warn(msg, RuntimeWarning)\n"
     ]
    },
    {
     "name": "stdout",
     "output_type": "stream",
     "text": [
      "delta function created, access using x.deltaf\n"
     ]
    }
   ],
   "source": [
    "col = np.array([\"c:\", \"m:\", \"g:\", \"r:\", \"y:\"])\n",
    "\n",
    "#fig1, ax1 = plt.subplots(3,2, figsize=(10,10), sharex=True)\n",
    "fig2, ax2 = plt.subplots(4,2, figsize=(10,10), sharex=True)\n",
    "\n",
    "for i in range(col.size):\n",
    "    sol = H.IterateGEF(t1=tend)\n",
    "    print(sol.success)\n",
    "    t = H.vals[\"t\"]\n",
    "    \"\"\" ax1[0,0].plot(t, H.Epf(t), col[i], label=\"iteration\" + str(i+1))\n",
    "    ax1[0,1].plot(t, H.Emf(t), col[i])\n",
    "    ax1[1,0].plot(t, H.Bpf(t), col[i])\n",
    "    ax1[1,1].plot(t, H.Bmf(t), col[i])\n",
    "    ax1[2,0].plot(t, -H.Gpf(t), col[i])\n",
    "    ax1[2,1].plot(t, -H.Gmf(t), col[i])\"\"\"\n",
    "    \n",
    "    H.Unitful()\n",
    "    N = H.vals[\"N\"]\n",
    "    delta = H.vals[\"delta\"]\n",
    "    E = H.vals[\"E\"]\n",
    "    B = H.vals[\"B\"]\n",
    "    G = abs(H.vals[\"G\"])\n",
    "    PlotComp(ax2[0,0], ax2[1,0], N, E, Ntmp, Etmp, col=col[i], label=\"iteration\" + str(i+1))\n",
    "    PlotComp(ax2[0,1], ax2[1,1], N, B, Ntmp, Btmp, col=col[i])\n",
    "    PlotComp(ax2[2,0], ax2[3,0], N, G, Ntmp, Gtmp, col=col[i])\n",
    "    PlotComp(ax2[2,1], ax2[3,1], N, delta, Ntmp, deltatmp, col=col[i])\n",
    "    \n",
    "    Ntmp = N\n",
    "    Etmp = E\n",
    "    Btmp = B\n",
    "    Gtmp = G\n",
    "    deltatmp = delta\n",
    "    \n",
    "\"\"\"ax1[0,0].plot(t, H.Epf2(t), \"b-\")\n",
    "ax1[0,1].plot(t, H.Emf2(t), \"b-\")\n",
    "ax1[1,0].plot(t, H.Bpf2(t), \"b-\")\n",
    "ax1[1,1].plot(t, H.Bmf2(t), \"b-\")\n",
    "ax1[2,0].plot(t, -H.Gpf2(t), \"b-\")\n",
    "ax1[2,1].plot(t, -H.Gmf2(t), \"b-\")\"\"\"\n",
    "ax2[0,0].plot(Ntmp, Etmp, \"b-\")\n",
    "ax2[0,1].plot(Ntmp, Btmp, \"b-\")\n",
    "ax2[2,0].plot(Ntmp, Gtmp, \"b-\")\n",
    "ax2[2,1].plot(Ntmp, deltatmp, \"b-\")\n",
    "    \n",
    "for ax in fig1.axes:\n",
    "    ax.grid(True)\n",
    "    ax.set_ylim(-1., 10.)\n",
    "    \n",
    "ax2[0,0].set_ylim(1e-17, 2.5e-13)\n",
    "ax2[0,1].set_ylim(1e-17, 2.5e-13)\n",
    "ax2[2,0].set_ylim(1e-17, 2.5e-13)\n",
    "ax2[0,0].set_yscale(\"log\")\n",
    "ax2[0,1].set_yscale(\"log\")\n",
    "ax2[2,0].set_yscale(\"log\")\n",
    "\n",
    "ax2[1,0].set_ylim(1e-5, 1e0)\n",
    "ax2[1,1].set_ylim(1e-5, 1e0)\n",
    "ax2[3,0].set_ylim(1e-5, 1e0)\n",
    "ax2[3,1].set_ylim(1e-5, 1e0)\n",
    "\n",
    "for ax in fig2.axes:\n",
    "    ax.grid(True)\n",
    "    ax.set_xlim(46., 62.)\n",
    "    #ax.set_xlim(48.5, 50.5)\n",
    "\n",
    "\"\"\"lines_labels = [ax1[0,0].get_legend_handles_labels()]\n",
    "lines, labels = [sum(lol, []) for lol in zip(*lines_labels)]\n",
    "fig1.legend(lines, labels)\"\"\"\n",
    "lines_labels = [ax2[0,0].get_legend_handles_labels()]\n",
    "lines, labels = [sum(lol, []) for lol in zip(*lines_labels)]\n",
    "fig2.legend(lines, labels)\n",
    "\n",
    "plt.show()\n"
   ]
  },
  {
   "cell_type": "code",
   "execution_count": 7,
   "id": "b861e015",
   "metadata": {},
   "outputs": [],
   "source": [
    "H.Unitless()\n",
    "H.SaveData()"
   ]
  },
  {
   "cell_type": "code",
   "execution_count": null,
   "id": "7a215fbc",
   "metadata": {},
   "outputs": [],
   "source": []
  }
 ],
 "metadata": {
  "kernelspec": {
   "display_name": "Python 3 (ipykernel)",
   "language": "python",
   "name": "python3"
  },
  "language_info": {
   "codemirror_mode": {
    "name": "ipython",
    "version": 3
   },
   "file_extension": ".py",
   "mimetype": "text/x-python",
   "name": "python",
   "nbconvert_exporter": "python",
   "pygments_lexer": "ipython3",
   "version": "3.10.11"
  }
 },
 "nbformat": 4,
 "nbformat_minor": 5
}
