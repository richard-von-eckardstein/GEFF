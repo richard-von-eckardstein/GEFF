{
 "cells": [
  {
   "cell_type": "code",
   "execution_count": 1,
   "metadata": {},
   "outputs": [],
   "source": [
    "import numpy as np\n",
    "from src.GEF import GEF\n",
    "from Models.Classic import UpdateVals, TimeStep, Initialise\n",
    "from scipy.integrate import solve_ivp"
   ]
  },
  {
   "cell_type": "code",
   "execution_count": 2,
   "metadata": {},
   "outputs": [],
   "source": [
    "beta = 25\n",
    "m = 6.16e-6\n",
    "#Define Unitful Arrays and Functions\n",
    "phi = 15.55\n",
    "dphi = np.sqrt(2/3)*m\n",
    "V = lambda x: 1/2*m**2*x**2\n",
    "dV = lambda x: m**2*x"
   ]
  },
  {
   "cell_type": "code",
   "execution_count": 3,
   "metadata": {},
   "outputs": [
    {
     "name": "stderr",
     "output_type": "stream",
     "text": [
      "/home/users/rfreiher/Documents/Axion_Inflation/WorkOnGEF/src/GEF.py:157: UserWarning: No default value set for 'kh'\n",
      "  warnings.warn(f\"No default value set for '{key}'\")\n"
     ]
    }
   ],
   "source": [
    "GNew = GEF(\"Classic\", beta, {\"phi\":phi, \"dphi\":dphi}, {\"V\":V, \"dV\":dV})"
   ]
  },
  {
   "cell_type": "code",
   "execution_count": 5,
   "metadata": {},
   "outputs": [
    {
     "data": {
      "text/plain": [
       "7.821057449390503e-05"
      ]
     },
     "execution_count": 5,
     "metadata": {},
     "output_type": "execute_result"
    }
   ],
   "source": [
    "GNew.dphi * GNew.phi"
   ]
  },
  {
   "cell_type": "code",
   "execution_count": null,
   "metadata": {},
   "outputs": [],
   "source": [
    "yini, vals = Initialise(GNew, 90)"
   ]
  },
  {
   "cell_type": "code",
   "execution_count": null,
   "metadata": {},
   "outputs": [
    {
     "name": "stdout",
     "output_type": "stream",
     "text": [
      "t (Unitless): 0.0\n",
      "N (Unitless): 0.0\n",
      "a (Unitless): 1.0\n",
      "H (Unitless): None\n",
      "phi (Unitless): 15.55\n",
      "dphi (Unitless): 0.12844042552976437\n",
      "ddphi (Unitless): None\n",
      "E (Unitless): 0.0\n",
      "B (Unitless): 0.0\n",
      "G (Unitless): 0.0\n",
      "xi (Unitless): None\n",
      "kh (Unitless): 3.211010638244109\n"
     ]
    }
   ],
   "source": [
    "vallist = vals.ListValues()\n",
    "for val in vallist:\n",
    "    print(getattr(vals, val))"
   ]
  },
  {
   "cell_type": "code",
   "execution_count": null,
   "metadata": {},
   "outputs": [],
   "source": [
    "def ode(t, y, vals, atol, rtol):\n",
    "    UpdateVals(t, y, vals)\n",
    "    dydt = TimeStep(t, y, vals, atol=atol, rtol=rtol)\n",
    "    return dydt\n"
   ]
  },
  {
   "cell_type": "code",
   "execution_count": null,
   "metadata": {},
   "outputs": [
    {
     "ename": "TypeError",
     "evalue": "'<' not supported between instances of 'BGVal' and 'int'",
     "output_type": "error",
     "traceback": [
      "\u001b[0;31m---------------------------------------------------------------------------\u001b[0m",
      "\u001b[0;31mTypeError\u001b[0m                                 Traceback (most recent call last)",
      "Cell \u001b[0;32mIn[7], line 1\u001b[0m\n\u001b[0;32m----> 1\u001b[0m dydt \u001b[38;5;241m=\u001b[39m \u001b[43mode\u001b[49m\u001b[43m(\u001b[49m\u001b[38;5;241;43m0\u001b[39;49m\u001b[43m,\u001b[49m\u001b[43m \u001b[49m\u001b[43myini\u001b[49m\u001b[43m,\u001b[49m\u001b[43m \u001b[49m\u001b[43mvals\u001b[49m\u001b[43m,\u001b[49m\u001b[43m \u001b[49m\u001b[38;5;241;43m1e-20\u001b[39;49m\u001b[43m,\u001b[49m\u001b[43m \u001b[49m\u001b[38;5;241;43m1e-6\u001b[39;49m\u001b[43m)\u001b[49m\n",
      "Cell \u001b[0;32mIn[6], line 3\u001b[0m, in \u001b[0;36mode\u001b[0;34m(t, y, vals, atol, rtol)\u001b[0m\n\u001b[1;32m      1\u001b[0m \u001b[38;5;28;01mdef\u001b[39;00m \u001b[38;5;21mode\u001b[39m(t, y, vals, atol, rtol):\n\u001b[1;32m      2\u001b[0m     UpdateVals(t, y, vals)\n\u001b[0;32m----> 3\u001b[0m     dydt \u001b[38;5;241m=\u001b[39m \u001b[43mTimeStep\u001b[49m\u001b[43m(\u001b[49m\u001b[43mt\u001b[49m\u001b[43m,\u001b[49m\u001b[43m \u001b[49m\u001b[43my\u001b[49m\u001b[43m,\u001b[49m\u001b[43m \u001b[49m\u001b[43mvals\u001b[49m\u001b[43m,\u001b[49m\u001b[43m \u001b[49m\u001b[43matol\u001b[49m\u001b[38;5;241;43m=\u001b[39;49m\u001b[43matol\u001b[49m\u001b[43m,\u001b[49m\u001b[43m \u001b[49m\u001b[43mrtol\u001b[49m\u001b[38;5;241;43m=\u001b[39;49m\u001b[43mrtol\u001b[49m\u001b[43m)\u001b[49m\n\u001b[1;32m      4\u001b[0m     \u001b[38;5;28;01mreturn\u001b[39;00m dydt\n",
      "File \u001b[0;32m~/Documents/Axion_Inflation/WorkOnGEF/Models/Classic.py:60\u001b[0m, in \u001b[0;36mTimeStep\u001b[0;34m(t, y, vals, **kwargs)\u001b[0m\n\u001b[1;32m     57\u001b[0m dydt[\u001b[38;5;241m2\u001b[39m] \u001b[38;5;241m=\u001b[39m vals\u001b[38;5;241m.\u001b[39mddphi\u001b[38;5;241m.\u001b[39mvalue\n\u001b[1;32m     59\u001b[0m eps \u001b[38;5;241m=\u001b[39m \u001b[38;5;28mmax\u001b[39m(\u001b[38;5;28mabs\u001b[39m(y[\u001b[38;5;241m3\u001b[39m])\u001b[38;5;241m*\u001b[39mrtol, atol)\n\u001b[0;32m---> 60\u001b[0m dlnkhdt \u001b[38;5;241m=\u001b[39m \u001b[43mEoMlnkh\u001b[49m\u001b[43m(\u001b[49m\u001b[43mvals\u001b[49m\u001b[43m)\u001b[49m\n\u001b[1;32m     61\u001b[0m logfc \u001b[38;5;241m=\u001b[39m y[\u001b[38;5;241m0\u001b[39m] \u001b[38;5;241m+\u001b[39m np\u001b[38;5;241m.\u001b[39mlog( \u001b[38;5;241m2\u001b[39m\u001b[38;5;241m*\u001b[39m\u001b[38;5;28mabs\u001b[39m(vals\u001b[38;5;241m.\u001b[39mxi\u001b[38;5;241m*\u001b[39mdydt[\u001b[38;5;241m0\u001b[39m]) )\n\u001b[1;32m     62\u001b[0m dlnkhdt \u001b[38;5;241m*\u001b[39m\u001b[38;5;241m=\u001b[39m Heaviside(dlnkhdt, eps)\u001b[38;5;241m*\u001b[39mHeaviside(logfc\u001b[38;5;241m-\u001b[39my[\u001b[38;5;241m3\u001b[39m]\u001b[38;5;241m+\u001b[39m\u001b[38;5;241m10\u001b[39m\u001b[38;5;241m*\u001b[39meps, eps)\n",
      "File \u001b[0;32m~/Documents/Axion_Inflation/WorkOnGEF/src/SolverFunctions/ClassicEoMs.py:22\u001b[0m, in \u001b[0;36mEoMlnkh\u001b[0;34m(vals)\u001b[0m\n\u001b[1;32m     20\u001b[0m dHdt \u001b[38;5;241m=\u001b[39m \u001b[38;5;241m0.\u001b[39m\u001b[38;5;66;03m#vals.vals[\"Hprime\"]# #approximation  dHdt = alphaH**2  (slow-roll)\u001b[39;00m\n\u001b[1;32m     21\u001b[0m xiprime \u001b[38;5;241m=\u001b[39m (\u001b[38;5;241m-\u001b[39mdHdt \u001b[38;5;241m*\u001b[39m xi \u001b[38;5;241m+\u001b[39m (vals\u001b[38;5;241m.\u001b[39mddI(vals\u001b[38;5;241m.\u001b[39mphi)\u001b[38;5;241m*\u001b[39mvals\u001b[38;5;241m.\u001b[39mdphi\u001b[38;5;241m*\u001b[39m\u001b[38;5;241m*\u001b[39m\u001b[38;5;241m2\u001b[39m \u001b[38;5;241m+\u001b[39m vals\u001b[38;5;241m.\u001b[39mdI(vals\u001b[38;5;241m.\u001b[39mphi)\u001b[38;5;241m*\u001b[39mvals\u001b[38;5;241m.\u001b[39mddphi)\u001b[38;5;241m/\u001b[39m\u001b[38;5;241m2\u001b[39m)\u001b[38;5;241m/\u001b[39mH\n\u001b[0;32m---> 22\u001b[0m rprime \u001b[38;5;241m=\u001b[39m \u001b[38;5;241m2\u001b[39m\u001b[38;5;241m*\u001b[39m\u001b[43mnp\u001b[49m\u001b[38;5;241;43m.\u001b[39;49m\u001b[43msign\u001b[49m\u001b[43m(\u001b[49m\u001b[43mxi\u001b[49m\u001b[43m)\u001b[49m\u001b[38;5;241m*\u001b[39mxiprime\n\u001b[1;32m     23\u001b[0m fcprime \u001b[38;5;241m=\u001b[39m H\u001b[38;5;241m*\u001b[39mfc \u001b[38;5;241m+\u001b[39m dHdt\u001b[38;5;241m*\u001b[39ma\u001b[38;5;241m*\u001b[39mr \u001b[38;5;241m+\u001b[39m a\u001b[38;5;241m*\u001b[39mH\u001b[38;5;241m*\u001b[39mrprime\n\u001b[1;32m     25\u001b[0m \u001b[38;5;28;01mreturn\u001b[39;00m fcprime\u001b[38;5;241m/\u001b[39mkh\n",
      "\u001b[0;31mTypeError\u001b[0m: '<' not supported between instances of 'BGVal' and 'int'"
     ]
    }
   ],
   "source": [
    "dydt = ode(0, yini, vals, 1e-20, 1e-6)"
   ]
  },
  {
   "cell_type": "code",
   "execution_count": null,
   "metadata": {},
   "outputs": [],
   "source": []
  }
 ],
 "metadata": {
  "kernelspec": {
   "display_name": "Python 3",
   "language": "python",
   "name": "python3"
  },
  "language_info": {
   "codemirror_mode": {
    "name": "ipython",
    "version": 3
   },
   "file_extension": ".py",
   "mimetype": "text/x-python",
   "name": "python",
   "nbconvert_exporter": "python",
   "pygments_lexer": "ipython3",
   "version": "3.10.11"
  }
 },
 "nbformat": 4,
 "nbformat_minor": 2
}
