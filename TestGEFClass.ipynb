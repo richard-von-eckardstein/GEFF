{
 "cells": [
  {
   "cell_type": "code",
   "execution_count": 1,
   "metadata": {},
   "outputs": [],
   "source": [
    "from src.BGQuantities.BGTypes import BGVal, BGFunc\n",
    "from src.GEF import GEF\n",
    "import numpy as np"
   ]
  },
  {
   "cell_type": "code",
   "execution_count": 2,
   "metadata": {},
   "outputs": [
    {
     "name": "stdout",
     "output_type": "stream",
     "text": [
      "4.352445000000001e-09\n",
      "5.598000000000001e-10\n"
     ]
    }
   ],
   "source": [
    "m = 6e-6\n",
    "#Define Unitful Arrays and Functions\n",
    "phi = 15.55\n",
    "dphi = np.sqrt(2/3)*m\n",
    "V = lambda x: 1/2*m**2*x**2\n",
    "print(V(phi))\n",
    "dV = lambda x: m**2*x\n",
    "print(dV(phi))\n"
   ]
  },
  {
   "cell_type": "code",
   "execution_count": 3,
   "metadata": {},
   "outputs": [
    {
     "name": "stdout",
     "output_type": "stream",
     "text": [
      "No default value set for H\n",
      "No default value set for ddphi\n",
      "No default value set for xi\n",
      "No default value set for kh\n",
      "Model: Classic, beta=10\n",
      "t (Unitful): 0.0\n",
      "N (Unitful): 0.0\n",
      "a (Unitful): 1.0\n",
      "H (Unitful): None\n",
      "phi (Unitful): 15.55\n",
      "dphi (Unitful): 4.898979485566356e-06\n",
      "ddphi (Unitful): None\n",
      "E (Unitful): 0.0\n",
      "B (Unitful): 0.0\n",
      "G (Unitful): 0.0\n",
      "xi (Unitful): None\n",
      "kh (Unitful): None\n",
      "4.352445000000001e-09\n",
      "5.598000000000001e-10\n",
      "10.0\n",
      "0.0\n",
      "t (Unitless): 0.0\n",
      "N (Unitless): 0.0\n",
      "a (Unitless): 1.0\n",
      "H (Unitless): None\n",
      "phi (Unitless): 15.55\n",
      "dphi (Unitless): 0.12844042552976434\n",
      "ddphi (Unitless): None\n",
      "E (Unitless): 0.0\n",
      "B (Unitless): 0.0\n",
      "G (Unitless): 0.0\n",
      "xi (Unitless): None\n",
      "kh (Unitless): None\n",
      "V <class 'src.BGQuantities.BGTypes.BGFunc'>\n",
      "dV <class 'src.BGQuantities.BGTypes.BGFunc'>\n",
      "dI <class 'src.BGQuantities.BGTypes.BGFunc'>\n",
      "ddI <class 'src.BGQuantities.BGTypes.BGFunc'>\n",
      "2.991751528544867\n",
      "0.38479119338197637\n",
      "10.0\n",
      "0.0\n"
     ]
    }
   ],
   "source": [
    "G = GEF(\"Classic\", 10, {\"phi\":phi, \"dphi\":dphi}, {\"V\":V, \"dV\":dV})\n",
    "print(G)\n",
    "G.SetUnits(True)\n",
    "\n",
    "for var in vars(G):\n",
    "    obj = getattr(G, var)\n",
    "    if isinstance(obj, BGVal):\n",
    "        print(obj)\n",
    "\n",
    "print(G.V(G.phi))\n",
    "print(G.dV(G.phi))\n",
    "print(G.dI(G.phi))\n",
    "print(G.ddI(G.phi))\n",
    "\n",
    "G.SetUnits(False)\n",
    "for var in vars(G):\n",
    "    obj = getattr(G, var)\n",
    "    if isinstance(obj, BGVal):\n",
    "        print(obj)\n",
    "    elif isinstance(obj, BGFunc):\n",
    "        print(obj.name, type(obj))\n",
    "\n",
    "print(G.V(G.phi))\n",
    "print(G.dV(G.phi))\n",
    "print(G.dI(G.phi))\n",
    "print(G.ddI(G.phi))"
   ]
  },
  {
   "cell_type": "code",
   "execution_count": 4,
   "metadata": {},
   "outputs": [
    {
     "name": "stdout",
     "output_type": "stream",
     "text": [
      "No default value set for H\n",
      "No default value set for ddphi\n",
      "No default value set for xi\n",
      "No default value set for kh\n",
      "No default value set for sigmaE\n",
      "No default value set for sigmaB\n",
      "No default value set for delta\n",
      "No default value set for xieff\n",
      "Model: Schwinger(Old), picture : mixed, beta=10\n",
      "t (Unitful): 0.0\n",
      "N (Unitful): 0.0\n",
      "a (Unitful): 1.0\n",
      "H (Unitful): None\n",
      "phi (Unitful): 15.55\n",
      "dphi (Unitful): 4.898979485566356e-06\n",
      "ddphi (Unitful): None\n",
      "E (Unitful): 0.0\n",
      "B (Unitful): 0.0\n",
      "G (Unitful): 0.0\n",
      "xi (Unitful): None\n",
      "kh (Unitful): None\n",
      "sigmaE (Unitful): None\n",
      "sigmaB (Unitful): None\n",
      "delta (Unitful): None\n",
      "xieff (Unitful): None\n",
      "rhoChi (Unitful): 0.0\n",
      "4.352445000000001e-09\n",
      "5.598000000000001e-10\n",
      "10.0\n",
      "0.0\n",
      "t (Unitless): 0.0\n",
      "N (Unitless): 0.0\n",
      "a (Unitless): 1.0\n",
      "H (Unitless): None\n",
      "phi (Unitless): 15.55\n",
      "dphi (Unitless): 0.12844042552976434\n",
      "ddphi (Unitless): None\n",
      "E (Unitless): 0.0\n",
      "B (Unitless): 0.0\n",
      "G (Unitless): 0.0\n",
      "xi (Unitless): None\n",
      "kh (Unitless): None\n",
      "sigmaE (Unitless): None\n",
      "sigmaB (Unitless): None\n",
      "delta (Unitless): None\n",
      "xieff (Unitless): None\n",
      "rhoChi (Unitless): 0.0\n",
      "V <class 'src.BGQuantities.BGTypes.BGFunc'>\n",
      "dV <class 'src.BGQuantities.BGTypes.BGFunc'>\n",
      "dI <class 'src.BGQuantities.BGTypes.BGFunc'>\n",
      "ddI <class 'src.BGQuantities.BGTypes.BGFunc'>\n",
      "2.991751528544867\n",
      "0.38479119338197637\n",
      "10.0\n",
      "0.0\n"
     ]
    }
   ],
   "source": [
    "G = GEF(\"SEOld\", 10, {\"phi\":phi, \"dphi\":dphi}, {\"V\":V, \"dV\":dV})\n",
    "print(G)\n",
    "G.SetUnits(True)\n",
    "\n",
    "for var in vars(G):\n",
    "    obj = getattr(G, var)\n",
    "    if isinstance(obj, BGVal):\n",
    "        print(obj)\n",
    "\n",
    "print(G.V(G.phi))\n",
    "print(G.dV(G.phi))\n",
    "print(G.dI(G.phi))\n",
    "print(G.ddI(G.phi))\n",
    "\n",
    "G.SetUnits(False)\n",
    "for var in vars(G):\n",
    "    obj = getattr(G, var)\n",
    "    if isinstance(obj, BGVal):\n",
    "        print(obj)\n",
    "    elif isinstance(obj, BGFunc):\n",
    "        print(obj.name, type(obj))\n",
    "\n",
    "print(G.V(G.phi))\n",
    "print(G.dV(G.phi))\n",
    "print(G.dI(G.phi))\n",
    "print(G.ddI(G.phi))"
   ]
  },
  {
   "cell_type": "code",
   "execution_count": null,
   "metadata": {},
   "outputs": [],
   "source": []
  }
 ],
 "metadata": {
  "kernelspec": {
   "display_name": "ptarcade",
   "language": "python",
   "name": "python3"
  },
  "language_info": {
   "codemirror_mode": {
    "name": "ipython",
    "version": 3
   },
   "file_extension": ".py",
   "mimetype": "text/x-python",
   "name": "python",
   "nbconvert_exporter": "python",
   "pygments_lexer": "ipython3",
   "version": "3.10.13"
  }
 },
 "nbformat": 4,
 "nbformat_minor": 2
}
