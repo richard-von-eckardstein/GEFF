{
 "cells": [
  {
   "cell_type": "code",
   "execution_count": 1,
   "metadata": {},
   "outputs": [],
   "source": [
    "from src.BGQuantities.BGTypes import BGVal, BGFunc\n",
    "from src.GEF import GEF\n",
    "import numpy as np\n",
    "import matplotlib.pyplot as plt"
   ]
  },
  {
   "cell_type": "code",
   "execution_count": 2,
   "metadata": {},
   "outputs": [],
   "source": [
    "m = 6e-6\n",
    "#Define Unitful Arrays and Functions\n",
    "phi = 15.55\n",
    "dphi = np.sqrt(2/3)*m\n",
    "V = lambda x: 1/2*m**2*x**2\n",
    "dV = lambda x: m**2*x\n",
    "\n"
   ]
  },
  {
   "cell_type": "code",
   "execution_count": 3,
   "metadata": {},
   "outputs": [
    {
     "data": {
      "text/plain": [
       "NoneType"
      ]
     },
     "execution_count": 3,
     "metadata": {},
     "output_type": "execute_result"
    }
   ],
   "source": [
    "type(None)"
   ]
  },
  {
   "cell_type": "code",
   "execution_count": 4,
   "metadata": {},
   "outputs": [
    {
     "name": "stderr",
     "output_type": "stream",
     "text": [
      "/home/users/rfreiher/Documents/Axion_Inflation/WorkOnGEF/src/GEF.py:146: UserWarning: No default value set for 'kh'\n",
      "  warnings.warn(f\"No default value set for '{key}'\")\n"
     ]
    }
   ],
   "source": [
    "G = GEF(\"Classic\", 10, {\"phi\":phi, \"dphi\":dphi}, {\"V\":V, \"dV\":dV}, GEFData=\"Out/NewFile2.dat\")\n",
    "G.LoadGEFData()\n"
   ]
  },
  {
   "cell_type": "code",
   "execution_count": 5,
   "metadata": {},
   "outputs": [
    {
     "name": "stdout",
     "output_type": "stream",
     "text": [
      "Necessary keys for this GEF-setup are:\n",
      "['t', 'N', 'phi', 'dphi', 'E', 'B', 'G', 'kh']\n"
     ]
    }
   ],
   "source": [
    "G.PrintNecessaryKeys()"
   ]
  },
  {
   "cell_type": "code",
   "execution_count": null,
   "metadata": {},
   "outputs": [],
   "source": [
    "G.GEFData=\"Out/NewFile2.dat\"\n",
    "G.Hprime.value = None\n",
    "G.dlnkh.value = None\n",
    "G.SaveData()"
   ]
  },
  {
   "cell_type": "code",
   "execution_count": 7,
   "metadata": {},
   "outputs": [
    {
     "name": "stdout",
     "output_type": "stream",
     "text": [
      "Hprime (Unitful): None\n"
     ]
    }
   ],
   "source": [
    "print(G.Hprime)\n"
   ]
  },
  {
   "cell_type": "code",
   "execution_count": 6,
   "metadata": {},
   "outputs": [
    {
     "name": "stdout",
     "output_type": "stream",
     "text": [
      "Model: Classic, beta=10\n",
      "t (Unitful): 0.0\n",
      "N (Unitful): 0.0\n",
      "a (Unitful): 1.0\n",
      "H (Unitful): None\n",
      "phi (Unitful): 15.55\n",
      "dphi (Unitful): 4.898979485566356e-06\n",
      "ddphi (Unitful): None\n",
      "E (Unitful): 0.0\n",
      "B (Unitful): 0.0\n",
      "G (Unitful): 0.0\n",
      "xi (Unitful): None\n",
      "kh (Unitful): None\n",
      "sigmaE (Unitful): None\n",
      "sigmaB (Unitful): None\n",
      "delta (Unitful): None\n",
      "xieff (Unitful): None\n",
      "rhoChi (Unitful): 0.0\n",
      "4.352445000000001e-09\n",
      "5.598000000000001e-10\n",
      "10.0\n",
      "0.0\n",
      "t (Unitless): 0.0\n",
      "N (Unitless): 0.0\n",
      "a (Unitless): 1.0\n",
      "H (Unitless): None\n",
      "phi (Unitless): 15.55\n",
      "dphi (Unitless): 0.12844042552976434\n",
      "ddphi (Unitless): None\n",
      "E (Unitless): 0.0\n",
      "B (Unitless): 0.0\n",
      "G (Unitless): 0.0\n",
      "xi (Unitless): None\n",
      "kh (Unitless): None\n",
      "sigmaE (Unitless): None\n",
      "sigmaB (Unitless): None\n",
      "delta (Unitless): None\n",
      "xieff (Unitless): None\n",
      "rhoChi (Unitless): 0.0\n",
      "V <class 'src.BGQuantities.BGTypes.BGFunc'>\n",
      "dV <class 'src.BGQuantities.BGTypes.BGFunc'>\n",
      "dI <class 'src.BGQuantities.BGTypes.BGFunc'>\n",
      "ddI <class 'src.BGQuantities.BGTypes.BGFunc'>\n",
      "2.991751528544867\n",
      "0.38479119338197637\n",
      "10.0\n",
      "0.0\n"
     ]
    },
    {
     "name": "stderr",
     "output_type": "stream",
     "text": [
      "/home/users/rfreiher/Documents/Axion_Inflation/WorkOnGEF/src/GEF.py:146: UserWarning: No default value set for 'kh'\n",
      "  warnings.warn(f\"No default value set for '{key}'\")\n",
      "/home/users/rfreiher/Documents/Axion_Inflation/WorkOnGEF/src/GEF.py:146: UserWarning: No default value set for 'sigmaE'\n",
      "  warnings.warn(f\"No default value set for '{key}'\")\n",
      "/home/users/rfreiher/Documents/Axion_Inflation/WorkOnGEF/src/GEF.py:146: UserWarning: No default value set for 'sigmaB'\n",
      "  warnings.warn(f\"No default value set for '{key}'\")\n",
      "/home/users/rfreiher/Documents/Axion_Inflation/WorkOnGEF/src/GEF.py:146: UserWarning: No default value set for 'delta'\n",
      "  warnings.warn(f\"No default value set for '{key}'\")\n"
     ]
    }
   ],
   "source": [
    "H = GEF(\"SEOld\", 10, {\"phi\":phi, \"dphi\":dphi}, {\"V\":V, \"dV\":dV})\n",
    "print(G)\n",
    "H.SetUnits(True)\n",
    "\n",
    "for var in vars(H):\n",
    "    obj = getattr(H, var)\n",
    "    if isinstance(obj, BGVal):\n",
    "        print(obj)\n",
    "\n",
    "print(H.V(H.phi))\n",
    "print(H.dV(H.phi))\n",
    "print(H.dI(H.phi))\n",
    "print(H.ddI(H.phi))\n",
    "\n",
    "H.SetUnits(False)\n",
    "for var in vars(H):\n",
    "    obj = getattr(H, var)\n",
    "    if isinstance(obj, BGVal):\n",
    "        print(obj)\n",
    "    elif isinstance(obj, BGFunc):\n",
    "        print(obj.name, type(obj))\n",
    "\n",
    "print(H.V(H.phi))\n",
    "print(H.dV(H.phi))\n",
    "print(H.dI(H.phi))\n",
    "print(H.ddI(H.phi))"
   ]
  },
  {
   "cell_type": "code",
   "execution_count": 7,
   "metadata": {},
   "outputs": [
    {
     "ename": "AttributeError",
     "evalue": "'GEF' object has no attribute 'hi'",
     "output_type": "error",
     "traceback": [
      "\u001b[0;31m---------------------------------------------------------------------------\u001b[0m",
      "\u001b[0;31mAttributeError\u001b[0m                            Traceback (most recent call last)",
      "Cell \u001b[0;32mIn[7], line 1\u001b[0m\n\u001b[0;32m----> 1\u001b[0m \u001b[38;5;28;43mgetattr\u001b[39;49m\u001b[43m(\u001b[49m\u001b[43mG\u001b[49m\u001b[43m,\u001b[49m\u001b[43m \u001b[49m\u001b[38;5;124;43m\"\u001b[39;49m\u001b[38;5;124;43mhi\u001b[39;49m\u001b[38;5;124;43m\"\u001b[39;49m\u001b[43m)\u001b[49m\n",
      "\u001b[0;31mAttributeError\u001b[0m: 'GEF' object has no attribute 'hi'"
     ]
    }
   ],
   "source": [
    "getattr(G, \"hi\")"
   ]
  },
  {
   "cell_type": "code",
   "execution_count": null,
   "metadata": {},
   "outputs": [],
   "source": []
  }
 ],
 "metadata": {
  "kernelspec": {
   "display_name": "Python 3",
   "language": "python",
   "name": "python3"
  },
  "language_info": {
   "codemirror_mode": {
    "name": "ipython",
    "version": 3
   },
   "file_extension": ".py",
   "mimetype": "text/x-python",
   "name": "python",
   "nbconvert_exporter": "python",
   "pygments_lexer": "ipython3",
   "version": "3.10.11"
  }
 },
 "nbformat": 4,
 "nbformat_minor": 2
}
