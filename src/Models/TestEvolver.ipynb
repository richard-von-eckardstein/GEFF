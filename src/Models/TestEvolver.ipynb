{
 "cells": [
  {
   "cell_type": "code",
   "execution_count": 1,
   "metadata": {},
   "outputs": [],
   "source": [
    "from src.Solver.Evolver import Evolver\n",
    "from src.BGQuantities.Variables import ScalarField"
   ]
  },
  {
   "cell_type": "code",
   "execution_count": 2,
   "metadata": {},
   "outputs": [],
   "source": [
    "def KG(H, Vphi, dphi):\n",
    "    return -3*H*dphi - Vphi\n",
    "\n",
    "H0 = 1e-6\n",
    "\n",
    "V =  3*H0**2\n",
    "\n",
    "Phi = ScalarField(\"phi\", KG)"
   ]
  },
  {
   "cell_type": "code",
   "execution_count": 3,
   "metadata": {},
   "outputs": [],
   "source": [
    "E = Evolver({\"scalars\":[Phi]}, 1e-6, 1)"
   ]
  },
  {
   "cell_type": "code",
   "execution_count": null,
   "metadata": {},
   "outputs": [],
   "source": [
    "E.Initialise(\"phi\")(15.55)\n",
    "E.Initialise(\"dphi\")(-V/(3*H0))\n"
   ]
  },
  {
   "cell_type": "code",
   "execution_count": null,
   "metadata": {},
   "outputs": [],
   "source": []
  },
  {
   "cell_type": "code",
   "execution_count": 9,
   "metadata": {},
   "outputs": [
    {
     "name": "stdout",
     "output_type": "stream",
     "text": [
      "phi (Unitful): 15.55 dphi (Unitful): -1e-06\n",
      "ddphi (Unitful): 0.0\n",
      "ddphi (Unitful): 0.0\n"
     ]
    }
   ],
   "source": [
    "E.SetUnits(True)\n",
    "print(E.phi, E.dphi)\n",
    "E.Evolve(\"phi\")(H0, V, E.dphi)\n",
    "print(E.ddphi)\n",
    "E.Evolve(\"phi\")(H0, V, E.dphi)\n",
    "print(E.ddphi)"
   ]
  },
  {
   "cell_type": "code",
   "execution_count": 6,
   "metadata": {},
   "outputs": [
    {
     "name": "stdout",
     "output_type": "stream",
     "text": [
      "phi (Unitless): 15.55 dphi (Unitless): -1.0 ddphi (Unitless): 0.0\n"
     ]
    }
   ],
   "source": [
    "print(E.phi, E.dphi, E.ddphi)"
   ]
  },
  {
   "cell_type": "code",
   "execution_count": 7,
   "metadata": {},
   "outputs": [
    {
     "data": {
      "text/plain": [
       "dphi(name='dphi', H0Units=1, MPunits=1)"
      ]
     },
     "execution_count": 7,
     "metadata": {},
     "output_type": "execute_result"
    }
   ],
   "source": [
    "E.dphi"
   ]
  },
  {
   "cell_type": "code",
   "execution_count": null,
   "metadata": {},
   "outputs": [],
   "source": []
  }
 ],
 "metadata": {
  "kernelspec": {
   "display_name": "ptarcade",
   "language": "python",
   "name": "python3"
  },
  "language_info": {
   "codemirror_mode": {
    "name": "ipython",
    "version": 3
   },
   "file_extension": ".py",
   "mimetype": "text/x-python",
   "name": "python",
   "nbconvert_exporter": "python",
   "pygments_lexer": "ipython3",
   "version": "3.10.13"
  }
 },
 "nbformat": 4,
 "nbformat_minor": 2
}
